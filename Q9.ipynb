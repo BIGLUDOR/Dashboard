{
 "metadata": {
  "language_info": {
   "codemirror_mode": {
    "name": "ipython",
    "version": 3
   },
   "file_extension": ".py",
   "mimetype": "text/x-python",
   "name": "python",
   "nbconvert_exporter": "python",
   "pygments_lexer": "ipython3",
   "version": "3.6.8"
  },
  "orig_nbformat": 2,
  "kernelspec": {
   "name": "python3",
   "display_name": "Python 3.6.8 64-bit",
   "metadata": {
    "interpreter": {
     "hash": "916dbcbb3f70747c44a77c7bcd40155683ae19c65e1c03b4aa3499c5328201f1"
    }
   }
  }
 },
 "nbformat": 4,
 "nbformat_minor": 2,
 "cells": [
  {
   "source": [
    "# Data Base to get info about Power 9 and 8"
   ],
   "cell_type": "markdown",
   "metadata": {}
  },
  {
   "cell_type": "code",
   "execution_count": 1,
   "metadata": {},
   "outputs": [],
   "source": [
    "#we use imb_db_dbi more than ibm_db\n",
    "#import ibm_db as db \n",
    "import ibm_db_dbi\n",
    "import pandas as pd\n",
    "import matplotlib.pyplot as plt\n",
    "pd.set_option('display.max_columns', None)"
   ]
  },
  {
   "cell_type": "code",
   "execution_count": 2,
   "metadata": {},
   "outputs": [
    {
     "output_type": "stream",
     "name": "stdout",
     "text": [
      "The connection was successful\n"
     ]
    }
   ],
   "source": [
    "#DB connection\n",
    "try:\n",
    "    conn = ibm_db_dbi.connect('DATABASE=q9test1;'\n",
    "                     'HOSTNAME=mtelbrus.rchland.ibm.com;'  # 127.0.0.1 or localhost works if it's local\n",
    "                     'PORT=50000;'\n",
    "                     'PROTOCOL=TCPIP;'\n",
    "                     'UID=testeng;'\n",
    "                     'PWD=Data.Science4Test;', '', '')\n",
    "except:\n",
    "    print(\"No connection:\", ibm_db_dbi.conn_errormsg())\n",
    "else:\n",
    "    print(\"The connection was successful\")"
   ]
  },
  {
   "cell_type": "code",
   "execution_count": 3,
   "metadata": {},
   "outputs": [],
   "source": [
    "query = \"\"\"WITH ESS(MFGN,ORNO,TESTLOGICAL,PROD) AS (\n",
    "select DISTINCT TCMFGN AS MFGN,TCORNO AS ORNO,TCMFS_TEST_CELL AS TESTLOGICAL,WUPROD AS PROD\n",
    "from testengq.tcogda\n",
    "join \"QRYQ\".\"MFSGWU10_GRC\" on tcmfgn = wumfgn and tcorno = WUWORN\n",
    "where  START_TIMESTAMP between '2021-02-01 00:00:00' and '2021-03-01 00:00:00' and TEST_RUN_TIME is not null  and TCMMDL in ('22E') and substring(TCORNO,1,1) != 'Y' and WUPROD = 'ZZ_EDATA')\n",
    "select distinct *, \n",
    "case\n",
    "when T.TCPRLN in ('T_P8BRMP','T_P8BRZP') and TCCECC < 3 then 'Brazos 1-2 CECs AIX/Linux'\n",
    "when T.TCPRLN in ('T_P9ZZP','T_P9ZZL') and T.TCMMDL not in ('22G','41G','42G','22E') then 'ZZ AIX/Linux'\n",
    "when T.TCMMDL in ('22G','41G','42G','22E') and PROD IS NULL and T.TCPRLN in ('T_P9ZZP','T_P9ZZL') then 'ZZ Gen4 AIX/Linux'\n",
    "when T.TCMMDL in ('22G','41G','42G','22E') and PROD IS NULL and T.TCPRLN in ('T_P9ZZI','T_P9ZZM') then 'ZZ Gen4 IBM i'\n",
    "when T.TCMMDL in ('22E') and PROD = 'ZZ_EDATA' then 'ZZ Gen 4 ESS 5K'\n",
    "when T.TCPRLN in ('T_P9ZEP')  then 'Zeppelin'\n",
    "when T.TCPRLN in ('T_P8TULP')  then 'Tuleta AIX/Linux'\n",
    "when T.TCPRLN in ('T_P8TULI')  then 'Tuleta / IBM i'\n",
    "when T.TCPRLN in ('T_OPWSPN')  then 'Witherspoon'\n",
    "when T.TCPRLN in ('T_OPMHWK')  then 'Mihawk'\n",
    "when T.TCPRLN in ('T_OPGRSN')  then 'Garrison'\n",
    "when T.TCPRLN in ('T_OPFIRE')  then 'Firestone'\n",
    "when T.TCPRLN in ('T_P9ZZI','T_P9ZZM')  then 'ZZ IBM i'\n",
    "when T.TCPRLN in('T_P8BRMI','T_P8BRZI') and T.TCCECC < 3 then 'Brazos 1-2 CECs IBM i'\n",
    "when T.TCPRLN in ('T_P8BRMI','T_P8BRZI','T_P8BRMP','T_P8BRZP') and T.TCCECC > 2 then 'Brazos 3-4 CECs'\n",
    "when T.TCPRLN in ('T_P9FLMP','T_P9FLTP','T_P9FIPR') and T.TCCECC < 3 then 'Fleetwood AIX/Linux'\n",
    "when T.TCPRLN in ('T_P9FLMI','T_P9FLTI') and T.TCCECC < 3 then 'Fleetwood IBM i'\n",
    "when T.TCPRLN in ('T_P9FLMI','T_P9FLMP','T_P9FLTI','T_P9FLTP','T_P9FIPR') and T.TCCECC > 2 then 'Fleetwood 3-4 CECs'\n",
    "when T.TCPRLN in ('T_P8ALPQ','T_P8ALP ')  then 'Alpine'\n",
    "end as NEWPRLN\n",
    "from testengq.tcogda as T LEFT JOIN ESS \n",
    "ON TCMFGN = MFGN AND TCORNO = ORNO AND TCMFS_TEST_CELL = TESTLOGICAL\n",
    "where T.START_TIMESTAMP between '2021-02-01 00:00:00' and '2021-03-01 00:00:00' and T.TEST_RUN_TIME is not null and substring(T.TCORNO,1,1) != 'Y' AND T.TCROUN = 1 \n",
    "order by TOTAL_TIME DESC\"\"\""
   ]
  },
  {
   "cell_type": "code",
   "execution_count": 4,
   "metadata": {},
   "outputs": [],
   "source": [
    "df = pd.read_sql(query, conn)\n"
   ]
  },
  {
   "cell_type": "code",
   "execution_count": 5,
   "metadata": {},
   "outputs": [
    {
     "output_type": "execute_result",
     "data": {
      "text/plain": [
       "   TCROUN   TCMFGN  TCORNO TCMFS_TEST_CELL  TCCECC    TCPRLN TCMATP TCMMDL  \\\n",
       "0       1  1AU8BY7  A2MS1A        T3285856       0  T_OPWSPN   8335   GTH    \n",
       "1       1  1AU8L05  A2N0KU        T3288810       0  T_OPWSPN   8335   GTH    \n",
       "2       1  1AU8DB3  919NSF        T3287775       0  T_OPWSPN   8335   GTH    \n",
       "\n",
       "      START_TIMESTAMP    FINISH_TIMESTAMP  TOTAL_TIME  TEST_CYCLE_TIME  \\\n",
       "0 2021-02-12 20:16:45 2021-02-13 22:15:20       25.96            25.80   \n",
       "1 2021-02-25 07:34:12 2021-02-26 06:16:55       22.70            22.53   \n",
       "2 2021-02-19 22:30:31 2021-02-20 06:56:25        8.41             8.33   \n",
       "\n",
       "   TEST_RUN_TIME  TEST_ATN_MIN  TEST_ATN_CNT  TEST_RWK_MIN  TEST_RWK_CNT  \\\n",
       "0         808.51         33.49            16         659.0             6   \n",
       "1         688.24         12.76             6         574.0             5   \n",
       "2         328.83         15.17             3          85.0             1   \n",
       "\n",
       "   SWPRE_RUN_TIME  SWPRE_ATN_MIN  SWPRE_ATN_CNT  SWPRE_RWK_MIN  SWPRE_RWK_CNT  \\\n",
       "0             0.0            0.0            0.0              0              0   \n",
       "1            29.0            0.0            0.0              0              0   \n",
       "2            24.0            0.0            0.0              0              0   \n",
       "\n",
       "   EXT_RUN_TIME  EXT_ATN_MIN  EXT_ATN_CNT  EXT_RWK_MIN  EXT_RWK_CNT  HOLD_MIN  \\\n",
       "0          47.0          0.0            0            0            0         0   \n",
       "1          48.0          0.0            0            0            0         0   \n",
       "2          47.0          0.0            0            0            0         0   \n",
       "\n",
       "   HOLD_CNT  MFGN  ORNO  TESTLOGICAL  PROD      NEWPRLN  \n",
       "0         0     0     0            0     0  Witherspoon  \n",
       "1         0     0     0            0     0  Witherspoon  \n",
       "2         0     0     0            0     0  Witherspoon  "
      ],
      "text/html": "<div>\n<style scoped>\n    .dataframe tbody tr th:only-of-type {\n        vertical-align: middle;\n    }\n\n    .dataframe tbody tr th {\n        vertical-align: top;\n    }\n\n    .dataframe thead th {\n        text-align: right;\n    }\n</style>\n<table border=\"1\" class=\"dataframe\">\n  <thead>\n    <tr style=\"text-align: right;\">\n      <th></th>\n      <th>TCROUN</th>\n      <th>TCMFGN</th>\n      <th>TCORNO</th>\n      <th>TCMFS_TEST_CELL</th>\n      <th>TCCECC</th>\n      <th>TCPRLN</th>\n      <th>TCMATP</th>\n      <th>TCMMDL</th>\n      <th>START_TIMESTAMP</th>\n      <th>FINISH_TIMESTAMP</th>\n      <th>TOTAL_TIME</th>\n      <th>TEST_CYCLE_TIME</th>\n      <th>TEST_RUN_TIME</th>\n      <th>TEST_ATN_MIN</th>\n      <th>TEST_ATN_CNT</th>\n      <th>TEST_RWK_MIN</th>\n      <th>TEST_RWK_CNT</th>\n      <th>SWPRE_RUN_TIME</th>\n      <th>SWPRE_ATN_MIN</th>\n      <th>SWPRE_ATN_CNT</th>\n      <th>SWPRE_RWK_MIN</th>\n      <th>SWPRE_RWK_CNT</th>\n      <th>EXT_RUN_TIME</th>\n      <th>EXT_ATN_MIN</th>\n      <th>EXT_ATN_CNT</th>\n      <th>EXT_RWK_MIN</th>\n      <th>EXT_RWK_CNT</th>\n      <th>HOLD_MIN</th>\n      <th>HOLD_CNT</th>\n      <th>MFGN</th>\n      <th>ORNO</th>\n      <th>TESTLOGICAL</th>\n      <th>PROD</th>\n      <th>NEWPRLN</th>\n    </tr>\n  </thead>\n  <tbody>\n    <tr>\n      <th>0</th>\n      <td>1</td>\n      <td>1AU8BY7</td>\n      <td>A2MS1A</td>\n      <td>T3285856</td>\n      <td>0</td>\n      <td>T_OPWSPN</td>\n      <td>8335</td>\n      <td>GTH</td>\n      <td>2021-02-12 20:16:45</td>\n      <td>2021-02-13 22:15:20</td>\n      <td>25.96</td>\n      <td>25.80</td>\n      <td>808.51</td>\n      <td>33.49</td>\n      <td>16</td>\n      <td>659.0</td>\n      <td>6</td>\n      <td>0.0</td>\n      <td>0.0</td>\n      <td>0.0</td>\n      <td>0</td>\n      <td>0</td>\n      <td>47.0</td>\n      <td>0.0</td>\n      <td>0</td>\n      <td>0</td>\n      <td>0</td>\n      <td>0</td>\n      <td>0</td>\n      <td>0</td>\n      <td>0</td>\n      <td>0</td>\n      <td>0</td>\n      <td>Witherspoon</td>\n    </tr>\n    <tr>\n      <th>1</th>\n      <td>1</td>\n      <td>1AU8L05</td>\n      <td>A2N0KU</td>\n      <td>T3288810</td>\n      <td>0</td>\n      <td>T_OPWSPN</td>\n      <td>8335</td>\n      <td>GTH</td>\n      <td>2021-02-25 07:34:12</td>\n      <td>2021-02-26 06:16:55</td>\n      <td>22.70</td>\n      <td>22.53</td>\n      <td>688.24</td>\n      <td>12.76</td>\n      <td>6</td>\n      <td>574.0</td>\n      <td>5</td>\n      <td>29.0</td>\n      <td>0.0</td>\n      <td>0.0</td>\n      <td>0</td>\n      <td>0</td>\n      <td>48.0</td>\n      <td>0.0</td>\n      <td>0</td>\n      <td>0</td>\n      <td>0</td>\n      <td>0</td>\n      <td>0</td>\n      <td>0</td>\n      <td>0</td>\n      <td>0</td>\n      <td>0</td>\n      <td>Witherspoon</td>\n    </tr>\n    <tr>\n      <th>2</th>\n      <td>1</td>\n      <td>1AU8DB3</td>\n      <td>919NSF</td>\n      <td>T3287775</td>\n      <td>0</td>\n      <td>T_OPWSPN</td>\n      <td>8335</td>\n      <td>GTH</td>\n      <td>2021-02-19 22:30:31</td>\n      <td>2021-02-20 06:56:25</td>\n      <td>8.41</td>\n      <td>8.33</td>\n      <td>328.83</td>\n      <td>15.17</td>\n      <td>3</td>\n      <td>85.0</td>\n      <td>1</td>\n      <td>24.0</td>\n      <td>0.0</td>\n      <td>0.0</td>\n      <td>0</td>\n      <td>0</td>\n      <td>47.0</td>\n      <td>0.0</td>\n      <td>0</td>\n      <td>0</td>\n      <td>0</td>\n      <td>0</td>\n      <td>0</td>\n      <td>0</td>\n      <td>0</td>\n      <td>0</td>\n      <td>0</td>\n      <td>Witherspoon</td>\n    </tr>\n  </tbody>\n</table>\n</div>"
     },
     "metadata": {},
     "execution_count": 5
    }
   ],
   "source": [
    "df.fillna(0, inplace=True)\n",
    "df"
   ]
  },
  {
   "cell_type": "code",
   "execution_count": 6,
   "metadata": {},
   "outputs": [
    {
     "output_type": "execute_result",
     "data": {
      "text/plain": [
       "   TCROUN   TCMFGN  TCORNO TCMFS_TEST_CELL  TCCECC    TCPRLN TCMATP TCMMDL  \\\n",
       "0       1  1AU8BY7  A2MS1A        T3285856       0  T_OPWSPN   8335   GTH    \n",
       "1       1  1AU8L05  A2N0KU        T3288810       0  T_OPWSPN   8335   GTH    \n",
       "2       1  1AU8DB3  919NSF        T3287775       0  T_OPWSPN   8335   GTH    \n",
       "\n",
       "      START_TIMESTAMP    FINISH_TIMESTAMP  TOTAL_TIME  TEST_CYCLE_TIME  \\\n",
       "0 2021-02-12 20:16:45 2021-02-13 22:15:20       25.96            25.80   \n",
       "1 2021-02-25 07:34:12 2021-02-26 06:16:55       22.70            22.53   \n",
       "2 2021-02-19 22:30:31 2021-02-20 06:56:25        8.41             8.33   \n",
       "\n",
       "   TEST_RUN_TIME  TEST_ATN_MIN  TEST_ATN_CNT  TEST_RWK_MIN  TEST_RWK_CNT  \\\n",
       "0         808.51         33.49            16         659.0             6   \n",
       "1         688.24         12.76             6         574.0             5   \n",
       "2         328.83         15.17             3          85.0             1   \n",
       "\n",
       "   SWPRE_RUN_TIME  SWPRE_ATN_MIN  SWPRE_ATN_CNT  SWPRE_RWK_MIN  SWPRE_RWK_CNT  \\\n",
       "0             0.0            0.0            0.0              0              0   \n",
       "1            29.0            0.0            0.0              0              0   \n",
       "2            24.0            0.0            0.0              0              0   \n",
       "\n",
       "   EXT_RUN_TIME  EXT_ATN_MIN  EXT_ATN_CNT  EXT_RWK_MIN  EXT_RWK_CNT  HOLD_MIN  \\\n",
       "0          47.0          0.0            0            0            0         0   \n",
       "1          48.0          0.0            0            0            0         0   \n",
       "2          47.0          0.0            0            0            0         0   \n",
       "\n",
       "   HOLD_CNT  MFGN  ORNO  TESTLOGICAL  PROD      NEWPRLN       Test  \n",
       "0         0     0     0            0     0  Witherspoon  13.475167  \n",
       "1         0     0     0            0     0  Witherspoon  11.470667  \n",
       "2         0     0     0            0     0  Witherspoon   5.480500  "
      ],
      "text/html": "<div>\n<style scoped>\n    .dataframe tbody tr th:only-of-type {\n        vertical-align: middle;\n    }\n\n    .dataframe tbody tr th {\n        vertical-align: top;\n    }\n\n    .dataframe thead th {\n        text-align: right;\n    }\n</style>\n<table border=\"1\" class=\"dataframe\">\n  <thead>\n    <tr style=\"text-align: right;\">\n      <th></th>\n      <th>TCROUN</th>\n      <th>TCMFGN</th>\n      <th>TCORNO</th>\n      <th>TCMFS_TEST_CELL</th>\n      <th>TCCECC</th>\n      <th>TCPRLN</th>\n      <th>TCMATP</th>\n      <th>TCMMDL</th>\n      <th>START_TIMESTAMP</th>\n      <th>FINISH_TIMESTAMP</th>\n      <th>TOTAL_TIME</th>\n      <th>TEST_CYCLE_TIME</th>\n      <th>TEST_RUN_TIME</th>\n      <th>TEST_ATN_MIN</th>\n      <th>TEST_ATN_CNT</th>\n      <th>TEST_RWK_MIN</th>\n      <th>TEST_RWK_CNT</th>\n      <th>SWPRE_RUN_TIME</th>\n      <th>SWPRE_ATN_MIN</th>\n      <th>SWPRE_ATN_CNT</th>\n      <th>SWPRE_RWK_MIN</th>\n      <th>SWPRE_RWK_CNT</th>\n      <th>EXT_RUN_TIME</th>\n      <th>EXT_ATN_MIN</th>\n      <th>EXT_ATN_CNT</th>\n      <th>EXT_RWK_MIN</th>\n      <th>EXT_RWK_CNT</th>\n      <th>HOLD_MIN</th>\n      <th>HOLD_CNT</th>\n      <th>MFGN</th>\n      <th>ORNO</th>\n      <th>TESTLOGICAL</th>\n      <th>PROD</th>\n      <th>NEWPRLN</th>\n      <th>Test</th>\n    </tr>\n  </thead>\n  <tbody>\n    <tr>\n      <th>0</th>\n      <td>1</td>\n      <td>1AU8BY7</td>\n      <td>A2MS1A</td>\n      <td>T3285856</td>\n      <td>0</td>\n      <td>T_OPWSPN</td>\n      <td>8335</td>\n      <td>GTH</td>\n      <td>2021-02-12 20:16:45</td>\n      <td>2021-02-13 22:15:20</td>\n      <td>25.96</td>\n      <td>25.80</td>\n      <td>808.51</td>\n      <td>33.49</td>\n      <td>16</td>\n      <td>659.0</td>\n      <td>6</td>\n      <td>0.0</td>\n      <td>0.0</td>\n      <td>0.0</td>\n      <td>0</td>\n      <td>0</td>\n      <td>47.0</td>\n      <td>0.0</td>\n      <td>0</td>\n      <td>0</td>\n      <td>0</td>\n      <td>0</td>\n      <td>0</td>\n      <td>0</td>\n      <td>0</td>\n      <td>0</td>\n      <td>0</td>\n      <td>Witherspoon</td>\n      <td>13.475167</td>\n    </tr>\n    <tr>\n      <th>1</th>\n      <td>1</td>\n      <td>1AU8L05</td>\n      <td>A2N0KU</td>\n      <td>T3288810</td>\n      <td>0</td>\n      <td>T_OPWSPN</td>\n      <td>8335</td>\n      <td>GTH</td>\n      <td>2021-02-25 07:34:12</td>\n      <td>2021-02-26 06:16:55</td>\n      <td>22.70</td>\n      <td>22.53</td>\n      <td>688.24</td>\n      <td>12.76</td>\n      <td>6</td>\n      <td>574.0</td>\n      <td>5</td>\n      <td>29.0</td>\n      <td>0.0</td>\n      <td>0.0</td>\n      <td>0</td>\n      <td>0</td>\n      <td>48.0</td>\n      <td>0.0</td>\n      <td>0</td>\n      <td>0</td>\n      <td>0</td>\n      <td>0</td>\n      <td>0</td>\n      <td>0</td>\n      <td>0</td>\n      <td>0</td>\n      <td>0</td>\n      <td>Witherspoon</td>\n      <td>11.470667</td>\n    </tr>\n    <tr>\n      <th>2</th>\n      <td>1</td>\n      <td>1AU8DB3</td>\n      <td>919NSF</td>\n      <td>T3287775</td>\n      <td>0</td>\n      <td>T_OPWSPN</td>\n      <td>8335</td>\n      <td>GTH</td>\n      <td>2021-02-19 22:30:31</td>\n      <td>2021-02-20 06:56:25</td>\n      <td>8.41</td>\n      <td>8.33</td>\n      <td>328.83</td>\n      <td>15.17</td>\n      <td>3</td>\n      <td>85.0</td>\n      <td>1</td>\n      <td>24.0</td>\n      <td>0.0</td>\n      <td>0.0</td>\n      <td>0</td>\n      <td>0</td>\n      <td>47.0</td>\n      <td>0.0</td>\n      <td>0</td>\n      <td>0</td>\n      <td>0</td>\n      <td>0</td>\n      <td>0</td>\n      <td>0</td>\n      <td>0</td>\n      <td>0</td>\n      <td>0</td>\n      <td>Witherspoon</td>\n      <td>5.480500</td>\n    </tr>\n  </tbody>\n</table>\n</div>"
     },
     "metadata": {},
     "execution_count": 6
    }
   ],
   "source": [
    "df['Test'] = df['TEST_RUN_TIME'].apply(lambda x: x/60)\n",
    "df"
   ]
  },
  {
   "cell_type": "code",
   "execution_count": 7,
   "metadata": {},
   "outputs": [],
   "source": [
    "df['Test'] = df['TEST_RUN_TIME'].apply(lambda x: x/60)\n",
    "df['Rework'] = df['TEST_RWK_MIN'] + df['SWPRE_RWK_MIN'] + df['EXT_RWK_MIN']\n",
    "df['Rework'] = df['Rework'].apply(lambda x: x/60)\n",
    "df['Preload'] = df['SWPRE_RUN_TIME'].apply(lambda x : x/60)\n",
    "df['Attention'] = df['TEST_ATN_MIN'] + df['SWPRE_ATN_MIN'] + df['EXT_ATN_MIN']\n",
    "df['Attention'] = df['Attention'].apply(lambda x : x/60)\n",
    "df['EXT_OPS'] = df['EXT_RUN_TIME'].apply(lambda x :x/60)\n",
    "df['Hold'] = df['HOLD_MIN'].apply(lambda x :x/60)"
   ]
  },
  {
   "cell_type": "code",
   "execution_count": 8,
   "metadata": {},
   "outputs": [
    {
     "output_type": "execute_result",
     "data": {
      "text/plain": [
       "   TCORNO       Test     Rework   Preload  Attention   EXT_OPS  Hold\n",
       "0  A2MS1A  13.475167  10.983333  0.000000   0.558167  0.783333   0.0\n",
       "1  A2N0KU  11.470667   9.566667  0.483333   0.212667  0.800000   0.0\n",
       "2  919NSF   5.480500   1.416667  0.400000   0.252833  0.783333   0.0"
      ],
      "text/html": "<div>\n<style scoped>\n    .dataframe tbody tr th:only-of-type {\n        vertical-align: middle;\n    }\n\n    .dataframe tbody tr th {\n        vertical-align: top;\n    }\n\n    .dataframe thead th {\n        text-align: right;\n    }\n</style>\n<table border=\"1\" class=\"dataframe\">\n  <thead>\n    <tr style=\"text-align: right;\">\n      <th></th>\n      <th>TCORNO</th>\n      <th>Test</th>\n      <th>Rework</th>\n      <th>Preload</th>\n      <th>Attention</th>\n      <th>EXT_OPS</th>\n      <th>Hold</th>\n    </tr>\n  </thead>\n  <tbody>\n    <tr>\n      <th>0</th>\n      <td>A2MS1A</td>\n      <td>13.475167</td>\n      <td>10.983333</td>\n      <td>0.000000</td>\n      <td>0.558167</td>\n      <td>0.783333</td>\n      <td>0.0</td>\n    </tr>\n    <tr>\n      <th>1</th>\n      <td>A2N0KU</td>\n      <td>11.470667</td>\n      <td>9.566667</td>\n      <td>0.483333</td>\n      <td>0.212667</td>\n      <td>0.800000</td>\n      <td>0.0</td>\n    </tr>\n    <tr>\n      <th>2</th>\n      <td>919NSF</td>\n      <td>5.480500</td>\n      <td>1.416667</td>\n      <td>0.400000</td>\n      <td>0.252833</td>\n      <td>0.783333</td>\n      <td>0.0</td>\n    </tr>\n  </tbody>\n</table>\n</div>"
     },
     "metadata": {},
     "execution_count": 8
    }
   ],
   "source": [
    "graph_df = df[['TCORNO','Test','Rework','Preload','Attention','EXT_OPS','Hold']].copy()\n",
    "graph_df"
   ]
  },
  {
   "cell_type": "code",
   "execution_count": 9,
   "metadata": {},
   "outputs": [],
   "source": [
    "graph_df = graph_df.rename(columns={'TCORNO': 'ORDER_NUMBER'})"
   ]
  },
  {
   "cell_type": "code",
   "execution_count": 10,
   "metadata": {},
   "outputs": [],
   "source": [
    "graph_df = graph_df.set_index('ORDER_NUMBER')"
   ]
  },
  {
   "cell_type": "code",
   "execution_count": 11,
   "metadata": {},
   "outputs": [
    {
     "output_type": "stream",
     "name": "stdout",
     "text": [
      "Index(['Test', 'Rework', 'Preload', 'Attention', 'EXT_OPS', 'Hold'], dtype='object')\n"
     ]
    }
   ],
   "source": [
    "print(graph_df.columns)"
   ]
  },
  {
   "cell_type": "code",
   "execution_count": 12,
   "metadata": {},
   "outputs": [
    {
     "output_type": "execute_result",
     "data": {
      "text/plain": [
       "              Test  Rework  Preload  Attention  EXT_OPS  Hold\n",
       "ORDER_NUMBER                                                 \n",
       "919NSF           1       1        1          1        1     1\n",
       "A2MS1A           1       1        1          1        1     1\n",
       "A2N0KU           1       1        1          1        1     1"
      ],
      "text/html": "<div>\n<style scoped>\n    .dataframe tbody tr th:only-of-type {\n        vertical-align: middle;\n    }\n\n    .dataframe tbody tr th {\n        vertical-align: top;\n    }\n\n    .dataframe thead th {\n        text-align: right;\n    }\n</style>\n<table border=\"1\" class=\"dataframe\">\n  <thead>\n    <tr style=\"text-align: right;\">\n      <th></th>\n      <th>Test</th>\n      <th>Rework</th>\n      <th>Preload</th>\n      <th>Attention</th>\n      <th>EXT_OPS</th>\n      <th>Hold</th>\n    </tr>\n    <tr>\n      <th>ORDER_NUMBER</th>\n      <th></th>\n      <th></th>\n      <th></th>\n      <th></th>\n      <th></th>\n      <th></th>\n    </tr>\n  </thead>\n  <tbody>\n    <tr>\n      <th>919NSF</th>\n      <td>1</td>\n      <td>1</td>\n      <td>1</td>\n      <td>1</td>\n      <td>1</td>\n      <td>1</td>\n    </tr>\n    <tr>\n      <th>A2MS1A</th>\n      <td>1</td>\n      <td>1</td>\n      <td>1</td>\n      <td>1</td>\n      <td>1</td>\n      <td>1</td>\n    </tr>\n    <tr>\n      <th>A2N0KU</th>\n      <td>1</td>\n      <td>1</td>\n      <td>1</td>\n      <td>1</td>\n      <td>1</td>\n      <td>1</td>\n    </tr>\n  </tbody>\n</table>\n</div>"
     },
     "metadata": {},
     "execution_count": 12
    }
   ],
   "source": [
    "count = graph_df.groupby('ORDER_NUMBER').count()\n",
    "count"
   ]
  },
  {
   "cell_type": "code",
   "execution_count": 13,
   "metadata": {},
   "outputs": [],
   "source": [
    "target = count['Test'].values.copy()"
   ]
  },
  {
   "cell_type": "code",
   "execution_count": 14,
   "metadata": {},
   "outputs": [],
   "source": [
    "target[:]=10"
   ]
  },
  {
   "cell_type": "code",
   "execution_count": 15,
   "metadata": {},
   "outputs": [],
   "source": [
    "SMALL_SIZE = 5\n",
    "MEDIUM_SIZE = 8\n",
    "BIGGER_SIZE = 12\n",
    "plt.rc('font', size=MEDIUM_SIZE)\n",
    "plt.rc('axes', titlesize=BIGGER_SIZE)\n",
    "plt.rc('axes', labelsize=MEDIUM_SIZE)"
   ]
  },
  {
   "cell_type": "code",
   "execution_count": 16,
   "metadata": {},
   "outputs": [
    {
     "output_type": "display_data",
     "data": {
      "text/plain": "<Figure size 432x288 with 1 Axes>",
      "image/svg+xml": "<?xml version=\"1.0\" encoding=\"utf-8\" standalone=\"no\"?>\n<!DOCTYPE svg PUBLIC \"-//W3C//DTD SVG 1.1//EN\"\n  \"http://www.w3.org/Graphics/SVG/1.1/DTD/svg11.dtd\">\n<!-- Created with matplotlib (https://matplotlib.org/) -->\n<svg height=\"298.888125pt\" version=\"1.1\" viewBox=\"0 0 437.767125 298.888125\" width=\"437.767125pt\" xmlns=\"http://www.w3.org/2000/svg\" xmlns:xlink=\"http://www.w3.org/1999/xlink\">\n <metadata>\n  <rdf:RDF xmlns:cc=\"http://creativecommons.org/ns#\" xmlns:dc=\"http://purl.org/dc/elements/1.1/\" xmlns:rdf=\"http://www.w3.org/1999/02/22-rdf-syntax-ns#\">\n   <cc:Work>\n    <dc:type rdf:resource=\"http://purl.org/dc/dcmitype/StillImage\"/>\n    <dc:date>2021-04-12T11:34:11.520967</dc:date>\n    <dc:format>image/svg+xml</dc:format>\n    <dc:creator>\n     <cc:Agent>\n      <dc:title>Matplotlib v3.3.4, https://matplotlib.org/</dc:title>\n     </cc:Agent>\n    </dc:creator>\n   </cc:Work>\n  </rdf:RDF>\n </metadata>\n <defs>\n  <style type=\"text/css\">*{stroke-linecap:butt;stroke-linejoin:round;}</style>\n </defs>\n <g id=\"figure_1\">\n  <g id=\"patch_1\">\n   <path d=\"M 0 298.888125 \nL 437.767125 298.888125 \nL 437.767125 0 \nL 0 0 \nz\n\" style=\"fill:none;\"/>\n  </g>\n  <g id=\"axes_1\">\n   <g id=\"patch_2\">\n    <path d=\"M 36.1225 239.758125 \nL 337.4425 239.758125 \nL 337.4425 22.318125 \nL 36.1225 22.318125 \nz\n\" style=\"fill:#ffffff;\"/>\n   </g>\n   <g id=\"patch_3\">\n    <path clip-path=\"url(#p53f769a209)\" d=\"M 61.2325 239.758125 \nL 111.4525 239.758125 \nL 111.4525 131.598648 \nL 61.2325 131.598648 \nz\n\" style=\"fill:#1f77b4;\"/>\n   </g>\n   <g id=\"patch_4\">\n    <path clip-path=\"url(#p53f769a209)\" d=\"M 161.6725 239.758125 \nL 211.8925 239.758125 \nL 211.8925 147.687923 \nL 161.6725 147.687923 \nz\n\" style=\"fill:#1f77b4;\"/>\n   </g>\n   <g id=\"patch_5\">\n    <path clip-path=\"url(#p53f769a209)\" d=\"M 262.1125 239.758125 \nL 312.3325 239.758125 \nL 312.3325 195.768464 \nL 262.1125 195.768464 \nz\n\" style=\"fill:#1f77b4;\"/>\n   </g>\n   <g id=\"patch_6\">\n    <path clip-path=\"url(#p53f769a209)\" d=\"M 61.2325 131.598648 \nL 111.4525 131.598648 \nL 111.4525 43.440065 \nL 61.2325 43.440065 \nz\n\" style=\"fill:#ff7f0e;\"/>\n   </g>\n   <g id=\"patch_7\">\n    <path clip-path=\"url(#p53f769a209)\" d=\"M 161.6725 147.687923 \nL 211.8925 147.687923 \nL 211.8925 70.900327 \nL 161.6725 70.900327 \nz\n\" style=\"fill:#ff7f0e;\"/>\n   </g>\n   <g id=\"patch_8\">\n    <path clip-path=\"url(#p53f769a209)\" d=\"M 262.1125 195.768464 \nL 312.3325 195.768464 \nL 312.3325 184.397478 \nL 262.1125 184.397478 \nz\n\" style=\"fill:#ff7f0e;\"/>\n   </g>\n   <g id=\"patch_9\">\n    <path clip-path=\"url(#p53f769a209)\" d=\"M 61.2325 239.758125 \nL 111.4525 239.758125 \nL 111.4525 239.758125 \nL 61.2325 239.758125 \nz\n\" style=\"fill:#2ca02c;\"/>\n   </g>\n   <g id=\"patch_10\">\n    <path clip-path=\"url(#p53f769a209)\" d=\"M 161.6725 70.900327 \nL 211.8925 70.900327 \nL 211.8925 67.020814 \nL 161.6725 67.020814 \nz\n\" style=\"fill:#2ca02c;\"/>\n   </g>\n   <g id=\"patch_11\">\n    <path clip-path=\"url(#p53f769a209)\" d=\"M 262.1125 184.397478 \nL 312.3325 184.397478 \nL 312.3325 181.186847 \nL 262.1125 181.186847 \nz\n\" style=\"fill:#2ca02c;\"/>\n   </g>\n   <g id=\"patch_12\">\n    <path clip-path=\"url(#p53f769a209)\" d=\"M 61.2325 43.440065 \nL 111.4525 43.440065 \nL 111.4525 38.959897 \nL 61.2325 38.959897 \nz\n\" style=\"fill:#d62728;\"/>\n   </g>\n   <g id=\"patch_13\">\n    <path clip-path=\"url(#p53f769a209)\" d=\"M 161.6725 67.020814 \nL 211.8925 67.020814 \nL 211.8925 65.313828 \nL 161.6725 65.313828 \nz\n\" style=\"fill:#d62728;\"/>\n   </g>\n   <g id=\"patch_14\">\n    <path clip-path=\"url(#p53f769a209)\" d=\"M 262.1125 181.186847 \nL 312.3325 181.186847 \nL 312.3325 179.157461 \nL 262.1125 179.157461 \nz\n\" style=\"fill:#d62728;\"/>\n   </g>\n   <g id=\"patch_15\">\n    <path clip-path=\"url(#p53f769a209)\" d=\"M 61.2325 38.959897 \nL 111.4525 38.959897 \nL 111.4525 32.672411 \nL 61.2325 32.672411 \nz\n\" style=\"fill:#9467bd;\"/>\n   </g>\n   <g id=\"patch_16\">\n    <path clip-path=\"url(#p53f769a209)\" d=\"M 161.6725 65.313828 \nL 211.8925 65.313828 \nL 211.8925 58.892566 \nL 161.6725 58.892566 \nz\n\" style=\"fill:#9467bd;\"/>\n   </g>\n   <g id=\"patch_17\">\n    <path clip-path=\"url(#p53f769a209)\" d=\"M 262.1125 179.157461 \nL 312.3325 179.157461 \nL 312.3325 172.869974 \nL 262.1125 172.869974 \nz\n\" style=\"fill:#9467bd;\"/>\n   </g>\n   <g id=\"patch_18\">\n    <path clip-path=\"url(#p53f769a209)\" d=\"M 61.2325 239.758125 \nL 111.4525 239.758125 \nL 111.4525 239.758125 \nL 61.2325 239.758125 \nz\n\" style=\"fill:#8c564b;\"/>\n   </g>\n   <g id=\"patch_19\">\n    <path clip-path=\"url(#p53f769a209)\" d=\"M 161.6725 239.758125 \nL 211.8925 239.758125 \nL 211.8925 239.758125 \nL 161.6725 239.758125 \nz\n\" style=\"fill:#8c564b;\"/>\n   </g>\n   <g id=\"patch_20\">\n    <path clip-path=\"url(#p53f769a209)\" d=\"M 262.1125 239.758125 \nL 312.3325 239.758125 \nL 312.3325 239.758125 \nL 262.1125 239.758125 \nz\n\" style=\"fill:#8c564b;\"/>\n   </g>\n   <g id=\"matplotlib.axis_1\">\n    <g id=\"xtick_1\">\n     <g id=\"line2d_1\">\n      <defs>\n       <path d=\"M 0 0 \nL 0 3.5 \n\" id=\"m578614ec04\" style=\"stroke:#000000;stroke-width:0.8;\"/>\n      </defs>\n      <g>\n       <use style=\"stroke:#000000;stroke-width:0.8;\" x=\"86.3425\" xlink:href=\"#m578614ec04\" y=\"239.758125\"/>\n      </g>\n     </g>\n     <g id=\"text_1\">\n      <!-- A2MS1A -->\n      <g transform=\"translate(88.55 279.864375)rotate(-90)scale(0.08 -0.08)\">\n       <defs>\n        <path d=\"M 34.1875 63.1875 \nL 20.796875 26.90625 \nL 47.609375 26.90625 \nz\nM 28.609375 72.90625 \nL 39.796875 72.90625 \nL 67.578125 0 \nL 57.328125 0 \nL 50.6875 18.703125 \nL 17.828125 18.703125 \nL 11.1875 0 \nL 0.78125 0 \nz\n\" id=\"DejaVuSans-65\"/>\n        <path d=\"M 19.1875 8.296875 \nL 53.609375 8.296875 \nL 53.609375 0 \nL 7.328125 0 \nL 7.328125 8.296875 \nQ 12.9375 14.109375 22.625 23.890625 \nQ 32.328125 33.6875 34.8125 36.53125 \nQ 39.546875 41.84375 41.421875 45.53125 \nQ 43.3125 49.21875 43.3125 52.78125 \nQ 43.3125 58.59375 39.234375 62.25 \nQ 35.15625 65.921875 28.609375 65.921875 \nQ 23.96875 65.921875 18.8125 64.3125 \nQ 13.671875 62.703125 7.8125 59.421875 \nL 7.8125 69.390625 \nQ 13.765625 71.78125 18.9375 73 \nQ 24.125 74.21875 28.421875 74.21875 \nQ 39.75 74.21875 46.484375 68.546875 \nQ 53.21875 62.890625 53.21875 53.421875 \nQ 53.21875 48.921875 51.53125 44.890625 \nQ 49.859375 40.875 45.40625 35.40625 \nQ 44.1875 33.984375 37.640625 27.21875 \nQ 31.109375 20.453125 19.1875 8.296875 \nz\n\" id=\"DejaVuSans-50\"/>\n        <path d=\"M 9.8125 72.90625 \nL 24.515625 72.90625 \nL 43.109375 23.296875 \nL 61.8125 72.90625 \nL 76.515625 72.90625 \nL 76.515625 0 \nL 66.890625 0 \nL 66.890625 64.015625 \nL 48.09375 14.015625 \nL 38.1875 14.015625 \nL 19.390625 64.015625 \nL 19.390625 0 \nL 9.8125 0 \nz\n\" id=\"DejaVuSans-77\"/>\n        <path d=\"M 53.515625 70.515625 \nL 53.515625 60.890625 \nQ 47.90625 63.578125 42.921875 64.890625 \nQ 37.9375 66.21875 33.296875 66.21875 \nQ 25.25 66.21875 20.875 63.09375 \nQ 16.5 59.96875 16.5 54.203125 \nQ 16.5 49.359375 19.40625 46.890625 \nQ 22.3125 44.4375 30.421875 42.921875 \nL 36.375 41.703125 \nQ 47.40625 39.59375 52.65625 34.296875 \nQ 57.90625 29 57.90625 20.125 \nQ 57.90625 9.515625 50.796875 4.046875 \nQ 43.703125 -1.421875 29.984375 -1.421875 \nQ 24.8125 -1.421875 18.96875 -0.25 \nQ 13.140625 0.921875 6.890625 3.21875 \nL 6.890625 13.375 \nQ 12.890625 10.015625 18.65625 8.296875 \nQ 24.421875 6.59375 29.984375 6.59375 \nQ 38.421875 6.59375 43.015625 9.90625 \nQ 47.609375 13.234375 47.609375 19.390625 \nQ 47.609375 24.75 44.3125 27.78125 \nQ 41.015625 30.8125 33.5 32.328125 \nL 27.484375 33.5 \nQ 16.453125 35.6875 11.515625 40.375 \nQ 6.59375 45.0625 6.59375 53.421875 \nQ 6.59375 63.09375 13.40625 68.65625 \nQ 20.21875 74.21875 32.171875 74.21875 \nQ 37.3125 74.21875 42.625 73.28125 \nQ 47.953125 72.359375 53.515625 70.515625 \nz\n\" id=\"DejaVuSans-83\"/>\n        <path d=\"M 12.40625 8.296875 \nL 28.515625 8.296875 \nL 28.515625 63.921875 \nL 10.984375 60.40625 \nL 10.984375 69.390625 \nL 28.421875 72.90625 \nL 38.28125 72.90625 \nL 38.28125 8.296875 \nL 54.390625 8.296875 \nL 54.390625 0 \nL 12.40625 0 \nz\n\" id=\"DejaVuSans-49\"/>\n       </defs>\n       <use xlink:href=\"#DejaVuSans-65\"/>\n       <use x=\"68.408203\" xlink:href=\"#DejaVuSans-50\"/>\n       <use x=\"132.03125\" xlink:href=\"#DejaVuSans-77\"/>\n       <use x=\"218.310547\" xlink:href=\"#DejaVuSans-83\"/>\n       <use x=\"281.787109\" xlink:href=\"#DejaVuSans-49\"/>\n       <use x=\"345.410156\" xlink:href=\"#DejaVuSans-65\"/>\n      </g>\n     </g>\n    </g>\n    <g id=\"xtick_2\">\n     <g id=\"line2d_2\">\n      <g>\n       <use style=\"stroke:#000000;stroke-width:0.8;\" x=\"186.7825\" xlink:href=\"#m578614ec04\" y=\"239.758125\"/>\n      </g>\n     </g>\n     <g id=\"text_2\">\n      <!-- A2N0KU -->\n      <g transform=\"translate(188.99 279.286875)rotate(-90)scale(0.08 -0.08)\">\n       <defs>\n        <path d=\"M 9.8125 72.90625 \nL 23.09375 72.90625 \nL 55.421875 11.921875 \nL 55.421875 72.90625 \nL 64.984375 72.90625 \nL 64.984375 0 \nL 51.703125 0 \nL 19.390625 60.984375 \nL 19.390625 0 \nL 9.8125 0 \nz\n\" id=\"DejaVuSans-78\"/>\n        <path d=\"M 31.78125 66.40625 \nQ 24.171875 66.40625 20.328125 58.90625 \nQ 16.5 51.421875 16.5 36.375 \nQ 16.5 21.390625 20.328125 13.890625 \nQ 24.171875 6.390625 31.78125 6.390625 \nQ 39.453125 6.390625 43.28125 13.890625 \nQ 47.125 21.390625 47.125 36.375 \nQ 47.125 51.421875 43.28125 58.90625 \nQ 39.453125 66.40625 31.78125 66.40625 \nz\nM 31.78125 74.21875 \nQ 44.046875 74.21875 50.515625 64.515625 \nQ 56.984375 54.828125 56.984375 36.375 \nQ 56.984375 17.96875 50.515625 8.265625 \nQ 44.046875 -1.421875 31.78125 -1.421875 \nQ 19.53125 -1.421875 13.0625 8.265625 \nQ 6.59375 17.96875 6.59375 36.375 \nQ 6.59375 54.828125 13.0625 64.515625 \nQ 19.53125 74.21875 31.78125 74.21875 \nz\n\" id=\"DejaVuSans-48\"/>\n        <path d=\"M 9.8125 72.90625 \nL 19.671875 72.90625 \nL 19.671875 42.09375 \nL 52.390625 72.90625 \nL 65.09375 72.90625 \nL 28.90625 38.921875 \nL 67.671875 0 \nL 54.6875 0 \nL 19.671875 35.109375 \nL 19.671875 0 \nL 9.8125 0 \nz\n\" id=\"DejaVuSans-75\"/>\n        <path d=\"M 8.6875 72.90625 \nL 18.609375 72.90625 \nL 18.609375 28.609375 \nQ 18.609375 16.890625 22.84375 11.734375 \nQ 27.09375 6.59375 36.625 6.59375 \nQ 46.09375 6.59375 50.34375 11.734375 \nQ 54.59375 16.890625 54.59375 28.609375 \nL 54.59375 72.90625 \nL 64.5 72.90625 \nL 64.5 27.390625 \nQ 64.5 13.140625 57.4375 5.859375 \nQ 50.390625 -1.421875 36.625 -1.421875 \nQ 22.796875 -1.421875 15.734375 5.859375 \nQ 8.6875 13.140625 8.6875 27.390625 \nz\n\" id=\"DejaVuSans-85\"/>\n       </defs>\n       <use xlink:href=\"#DejaVuSans-65\"/>\n       <use x=\"68.408203\" xlink:href=\"#DejaVuSans-50\"/>\n       <use x=\"132.03125\" xlink:href=\"#DejaVuSans-78\"/>\n       <use x=\"206.835938\" xlink:href=\"#DejaVuSans-48\"/>\n       <use x=\"270.458984\" xlink:href=\"#DejaVuSans-75\"/>\n       <use x=\"333.410156\" xlink:href=\"#DejaVuSans-85\"/>\n      </g>\n     </g>\n    </g>\n    <g id=\"xtick_3\">\n     <g id=\"line2d_3\">\n      <g>\n       <use style=\"stroke:#000000;stroke-width:0.8;\" x=\"287.2225\" xlink:href=\"#m578614ec04\" y=\"239.758125\"/>\n      </g>\n     </g>\n     <g id=\"text_3\">\n      <!-- 919NSF -->\n      <g transform=\"translate(289.43 277.693125)rotate(-90)scale(0.08 -0.08)\">\n       <defs>\n        <path d=\"M 10.984375 1.515625 \nL 10.984375 10.5 \nQ 14.703125 8.734375 18.5 7.8125 \nQ 22.3125 6.890625 25.984375 6.890625 \nQ 35.75 6.890625 40.890625 13.453125 \nQ 46.046875 20.015625 46.78125 33.40625 \nQ 43.953125 29.203125 39.59375 26.953125 \nQ 35.25 24.703125 29.984375 24.703125 \nQ 19.046875 24.703125 12.671875 31.3125 \nQ 6.296875 37.9375 6.296875 49.421875 \nQ 6.296875 60.640625 12.9375 67.421875 \nQ 19.578125 74.21875 30.609375 74.21875 \nQ 43.265625 74.21875 49.921875 64.515625 \nQ 56.59375 54.828125 56.59375 36.375 \nQ 56.59375 19.140625 48.40625 8.859375 \nQ 40.234375 -1.421875 26.421875 -1.421875 \nQ 22.703125 -1.421875 18.890625 -0.6875 \nQ 15.09375 0.046875 10.984375 1.515625 \nz\nM 30.609375 32.421875 \nQ 37.25 32.421875 41.125 36.953125 \nQ 45.015625 41.5 45.015625 49.421875 \nQ 45.015625 57.28125 41.125 61.84375 \nQ 37.25 66.40625 30.609375 66.40625 \nQ 23.96875 66.40625 20.09375 61.84375 \nQ 16.21875 57.28125 16.21875 49.421875 \nQ 16.21875 41.5 20.09375 36.953125 \nQ 23.96875 32.421875 30.609375 32.421875 \nz\n\" id=\"DejaVuSans-57\"/>\n        <path d=\"M 9.8125 72.90625 \nL 51.703125 72.90625 \nL 51.703125 64.59375 \nL 19.671875 64.59375 \nL 19.671875 43.109375 \nL 48.578125 43.109375 \nL 48.578125 34.8125 \nL 19.671875 34.8125 \nL 19.671875 0 \nL 9.8125 0 \nz\n\" id=\"DejaVuSans-70\"/>\n       </defs>\n       <use xlink:href=\"#DejaVuSans-57\"/>\n       <use x=\"63.623047\" xlink:href=\"#DejaVuSans-49\"/>\n       <use x=\"127.246094\" xlink:href=\"#DejaVuSans-57\"/>\n       <use x=\"190.869141\" xlink:href=\"#DejaVuSans-78\"/>\n       <use x=\"265.673828\" xlink:href=\"#DejaVuSans-83\"/>\n       <use x=\"329.150391\" xlink:href=\"#DejaVuSans-70\"/>\n      </g>\n     </g>\n    </g>\n    <g id=\"text_4\">\n     <!-- ORDER_NUMBER -->\n     <g transform=\"translate(153.045 289.801875)scale(0.08 -0.08)\">\n      <defs>\n       <path d=\"M 39.40625 66.21875 \nQ 28.65625 66.21875 22.328125 58.203125 \nQ 16.015625 50.203125 16.015625 36.375 \nQ 16.015625 22.609375 22.328125 14.59375 \nQ 28.65625 6.59375 39.40625 6.59375 \nQ 50.140625 6.59375 56.421875 14.59375 \nQ 62.703125 22.609375 62.703125 36.375 \nQ 62.703125 50.203125 56.421875 58.203125 \nQ 50.140625 66.21875 39.40625 66.21875 \nz\nM 39.40625 74.21875 \nQ 54.734375 74.21875 63.90625 63.9375 \nQ 73.09375 53.65625 73.09375 36.375 \nQ 73.09375 19.140625 63.90625 8.859375 \nQ 54.734375 -1.421875 39.40625 -1.421875 \nQ 24.03125 -1.421875 14.8125 8.828125 \nQ 5.609375 19.09375 5.609375 36.375 \nQ 5.609375 53.65625 14.8125 63.9375 \nQ 24.03125 74.21875 39.40625 74.21875 \nz\n\" id=\"DejaVuSans-79\"/>\n       <path d=\"M 44.390625 34.1875 \nQ 47.5625 33.109375 50.5625 29.59375 \nQ 53.5625 26.078125 56.59375 19.921875 \nL 66.609375 0 \nL 56 0 \nL 46.6875 18.703125 \nQ 43.0625 26.03125 39.671875 28.421875 \nQ 36.28125 30.8125 30.421875 30.8125 \nL 19.671875 30.8125 \nL 19.671875 0 \nL 9.8125 0 \nL 9.8125 72.90625 \nL 32.078125 72.90625 \nQ 44.578125 72.90625 50.734375 67.671875 \nQ 56.890625 62.453125 56.890625 51.90625 \nQ 56.890625 45.015625 53.6875 40.46875 \nQ 50.484375 35.9375 44.390625 34.1875 \nz\nM 19.671875 64.796875 \nL 19.671875 38.921875 \nL 32.078125 38.921875 \nQ 39.203125 38.921875 42.84375 42.21875 \nQ 46.484375 45.515625 46.484375 51.90625 \nQ 46.484375 58.296875 42.84375 61.546875 \nQ 39.203125 64.796875 32.078125 64.796875 \nz\n\" id=\"DejaVuSans-82\"/>\n       <path d=\"M 19.671875 64.796875 \nL 19.671875 8.109375 \nL 31.59375 8.109375 \nQ 46.6875 8.109375 53.6875 14.9375 \nQ 60.6875 21.78125 60.6875 36.53125 \nQ 60.6875 51.171875 53.6875 57.984375 \nQ 46.6875 64.796875 31.59375 64.796875 \nz\nM 9.8125 72.90625 \nL 30.078125 72.90625 \nQ 51.265625 72.90625 61.171875 64.09375 \nQ 71.09375 55.28125 71.09375 36.53125 \nQ 71.09375 17.671875 61.125 8.828125 \nQ 51.171875 0 30.078125 0 \nL 9.8125 0 \nz\n\" id=\"DejaVuSans-68\"/>\n       <path d=\"M 9.8125 72.90625 \nL 55.90625 72.90625 \nL 55.90625 64.59375 \nL 19.671875 64.59375 \nL 19.671875 43.015625 \nL 54.390625 43.015625 \nL 54.390625 34.71875 \nL 19.671875 34.71875 \nL 19.671875 8.296875 \nL 56.78125 8.296875 \nL 56.78125 0 \nL 9.8125 0 \nz\n\" id=\"DejaVuSans-69\"/>\n       <path d=\"M 50.984375 -16.609375 \nL 50.984375 -23.578125 \nL -0.984375 -23.578125 \nL -0.984375 -16.609375 \nz\n\" id=\"DejaVuSans-95\"/>\n       <path d=\"M 19.671875 34.8125 \nL 19.671875 8.109375 \nL 35.5 8.109375 \nQ 43.453125 8.109375 47.28125 11.40625 \nQ 51.125 14.703125 51.125 21.484375 \nQ 51.125 28.328125 47.28125 31.5625 \nQ 43.453125 34.8125 35.5 34.8125 \nz\nM 19.671875 64.796875 \nL 19.671875 42.828125 \nL 34.28125 42.828125 \nQ 41.5 42.828125 45.03125 45.53125 \nQ 48.578125 48.25 48.578125 53.8125 \nQ 48.578125 59.328125 45.03125 62.0625 \nQ 41.5 64.796875 34.28125 64.796875 \nz\nM 9.8125 72.90625 \nL 35.015625 72.90625 \nQ 46.296875 72.90625 52.390625 68.21875 \nQ 58.5 63.53125 58.5 54.890625 \nQ 58.5 48.1875 55.375 44.234375 \nQ 52.25 40.28125 46.1875 39.3125 \nQ 53.46875 37.75 57.5 32.78125 \nQ 61.53125 27.828125 61.53125 20.40625 \nQ 61.53125 10.640625 54.890625 5.3125 \nQ 48.25 0 35.984375 0 \nL 9.8125 0 \nz\n\" id=\"DejaVuSans-66\"/>\n      </defs>\n      <use xlink:href=\"#DejaVuSans-79\"/>\n      <use x=\"78.710938\" xlink:href=\"#DejaVuSans-82\"/>\n      <use x=\"148.193359\" xlink:href=\"#DejaVuSans-68\"/>\n      <use x=\"225.195312\" xlink:href=\"#DejaVuSans-69\"/>\n      <use x=\"288.378906\" xlink:href=\"#DejaVuSans-82\"/>\n      <use x=\"357.861328\" xlink:href=\"#DejaVuSans-95\"/>\n      <use x=\"407.861328\" xlink:href=\"#DejaVuSans-78\"/>\n      <use x=\"482.666016\" xlink:href=\"#DejaVuSans-85\"/>\n      <use x=\"555.859375\" xlink:href=\"#DejaVuSans-77\"/>\n      <use x=\"642.138672\" xlink:href=\"#DejaVuSans-66\"/>\n      <use x=\"710.742188\" xlink:href=\"#DejaVuSans-69\"/>\n      <use x=\"773.925781\" xlink:href=\"#DejaVuSans-82\"/>\n     </g>\n    </g>\n   </g>\n   <g id=\"matplotlib.axis_2\">\n    <g id=\"ytick_1\">\n     <g id=\"line2d_4\">\n      <defs>\n       <path d=\"M 0 0 \nL -3.5 0 \n\" id=\"m5a5bf9b140\" style=\"stroke:#000000;stroke-width:0.8;\"/>\n      </defs>\n      <g>\n       <use style=\"stroke:#000000;stroke-width:0.8;\" x=\"36.1225\" xlink:href=\"#m5a5bf9b140\" y=\"239.758125\"/>\n      </g>\n     </g>\n     <g id=\"text_5\">\n      <!-- 0 -->\n      <g transform=\"translate(24.0325 242.7975)scale(0.08 -0.08)\">\n       <use xlink:href=\"#DejaVuSans-48\"/>\n      </g>\n     </g>\n    </g>\n    <g id=\"ytick_2\">\n     <g id=\"line2d_5\">\n      <g>\n       <use style=\"stroke:#000000;stroke-width:0.8;\" x=\"36.1225\" xlink:href=\"#m5a5bf9b140\" y=\"199.625235\"/>\n      </g>\n     </g>\n     <g id=\"text_6\">\n      <!-- 5 -->\n      <g transform=\"translate(24.0325 202.66461)scale(0.08 -0.08)\">\n       <defs>\n        <path d=\"M 10.796875 72.90625 \nL 49.515625 72.90625 \nL 49.515625 64.59375 \nL 19.828125 64.59375 \nL 19.828125 46.734375 \nQ 21.96875 47.46875 24.109375 47.828125 \nQ 26.265625 48.1875 28.421875 48.1875 \nQ 40.625 48.1875 47.75 41.5 \nQ 54.890625 34.8125 54.890625 23.390625 \nQ 54.890625 11.625 47.5625 5.09375 \nQ 40.234375 -1.421875 26.90625 -1.421875 \nQ 22.3125 -1.421875 17.546875 -0.640625 \nQ 12.796875 0.140625 7.71875 1.703125 \nL 7.71875 11.625 \nQ 12.109375 9.234375 16.796875 8.0625 \nQ 21.484375 6.890625 26.703125 6.890625 \nQ 35.15625 6.890625 40.078125 11.328125 \nQ 45.015625 15.765625 45.015625 23.390625 \nQ 45.015625 31 40.078125 35.4375 \nQ 35.15625 39.890625 26.703125 39.890625 \nQ 22.75 39.890625 18.8125 39.015625 \nQ 14.890625 38.140625 10.796875 36.28125 \nz\n\" id=\"DejaVuSans-53\"/>\n       </defs>\n       <use xlink:href=\"#DejaVuSans-53\"/>\n      </g>\n     </g>\n    </g>\n    <g id=\"ytick_3\">\n     <g id=\"line2d_6\">\n      <g>\n       <use style=\"stroke:#000000;stroke-width:0.8;\" x=\"36.1225\" xlink:href=\"#m5a5bf9b140\" y=\"159.492344\"/>\n      </g>\n     </g>\n     <g id=\"text_7\">\n      <!-- 10 -->\n      <g transform=\"translate(18.9425 162.531719)scale(0.08 -0.08)\">\n       <use xlink:href=\"#DejaVuSans-49\"/>\n       <use x=\"63.623047\" xlink:href=\"#DejaVuSans-48\"/>\n      </g>\n     </g>\n    </g>\n    <g id=\"ytick_4\">\n     <g id=\"line2d_7\">\n      <g>\n       <use style=\"stroke:#000000;stroke-width:0.8;\" x=\"36.1225\" xlink:href=\"#m5a5bf9b140\" y=\"119.359454\"/>\n      </g>\n     </g>\n     <g id=\"text_8\">\n      <!-- 15 -->\n      <g transform=\"translate(18.9425 122.398829)scale(0.08 -0.08)\">\n       <use xlink:href=\"#DejaVuSans-49\"/>\n       <use x=\"63.623047\" xlink:href=\"#DejaVuSans-53\"/>\n      </g>\n     </g>\n    </g>\n    <g id=\"ytick_5\">\n     <g id=\"line2d_8\">\n      <g>\n       <use style=\"stroke:#000000;stroke-width:0.8;\" x=\"36.1225\" xlink:href=\"#m5a5bf9b140\" y=\"79.226564\"/>\n      </g>\n     </g>\n     <g id=\"text_9\">\n      <!-- 20 -->\n      <g transform=\"translate(18.9425 82.265939)scale(0.08 -0.08)\">\n       <use xlink:href=\"#DejaVuSans-50\"/>\n       <use x=\"63.623047\" xlink:href=\"#DejaVuSans-48\"/>\n      </g>\n     </g>\n    </g>\n    <g id=\"ytick_6\">\n     <g id=\"line2d_9\">\n      <g>\n       <use style=\"stroke:#000000;stroke-width:0.8;\" x=\"36.1225\" xlink:href=\"#m5a5bf9b140\" y=\"39.093673\"/>\n      </g>\n     </g>\n     <g id=\"text_10\">\n      <!-- 25 -->\n      <g transform=\"translate(18.9425 42.133048)scale(0.08 -0.08)\">\n       <use xlink:href=\"#DejaVuSans-50\"/>\n       <use x=\"63.623047\" xlink:href=\"#DejaVuSans-53\"/>\n      </g>\n     </g>\n    </g>\n    <g id=\"text_11\">\n     <!-- Hours -->\n     <g transform=\"translate(13.27875 142.756875)rotate(-90)scale(0.08 -0.08)\">\n      <defs>\n       <path d=\"M 9.8125 72.90625 \nL 19.671875 72.90625 \nL 19.671875 43.015625 \nL 55.515625 43.015625 \nL 55.515625 72.90625 \nL 65.375 72.90625 \nL 65.375 0 \nL 55.515625 0 \nL 55.515625 34.71875 \nL 19.671875 34.71875 \nL 19.671875 0 \nL 9.8125 0 \nz\n\" id=\"DejaVuSans-72\"/>\n       <path d=\"M 30.609375 48.390625 \nQ 23.390625 48.390625 19.1875 42.75 \nQ 14.984375 37.109375 14.984375 27.296875 \nQ 14.984375 17.484375 19.15625 11.84375 \nQ 23.34375 6.203125 30.609375 6.203125 \nQ 37.796875 6.203125 41.984375 11.859375 \nQ 46.1875 17.53125 46.1875 27.296875 \nQ 46.1875 37.015625 41.984375 42.703125 \nQ 37.796875 48.390625 30.609375 48.390625 \nz\nM 30.609375 56 \nQ 42.328125 56 49.015625 48.375 \nQ 55.71875 40.765625 55.71875 27.296875 \nQ 55.71875 13.875 49.015625 6.21875 \nQ 42.328125 -1.421875 30.609375 -1.421875 \nQ 18.84375 -1.421875 12.171875 6.21875 \nQ 5.515625 13.875 5.515625 27.296875 \nQ 5.515625 40.765625 12.171875 48.375 \nQ 18.84375 56 30.609375 56 \nz\n\" id=\"DejaVuSans-111\"/>\n       <path d=\"M 8.5 21.578125 \nL 8.5 54.6875 \nL 17.484375 54.6875 \nL 17.484375 21.921875 \nQ 17.484375 14.15625 20.5 10.265625 \nQ 23.53125 6.390625 29.59375 6.390625 \nQ 36.859375 6.390625 41.078125 11.03125 \nQ 45.3125 15.671875 45.3125 23.6875 \nL 45.3125 54.6875 \nL 54.296875 54.6875 \nL 54.296875 0 \nL 45.3125 0 \nL 45.3125 8.40625 \nQ 42.046875 3.421875 37.71875 1 \nQ 33.40625 -1.421875 27.6875 -1.421875 \nQ 18.265625 -1.421875 13.375 4.4375 \nQ 8.5 10.296875 8.5 21.578125 \nz\nM 31.109375 56 \nz\n\" id=\"DejaVuSans-117\"/>\n       <path d=\"M 41.109375 46.296875 \nQ 39.59375 47.171875 37.8125 47.578125 \nQ 36.03125 48 33.890625 48 \nQ 26.265625 48 22.1875 43.046875 \nQ 18.109375 38.09375 18.109375 28.8125 \nL 18.109375 0 \nL 9.078125 0 \nL 9.078125 54.6875 \nL 18.109375 54.6875 \nL 18.109375 46.1875 \nQ 20.953125 51.171875 25.484375 53.578125 \nQ 30.03125 56 36.53125 56 \nQ 37.453125 56 38.578125 55.875 \nQ 39.703125 55.765625 41.0625 55.515625 \nz\n\" id=\"DejaVuSans-114\"/>\n       <path d=\"M 44.28125 53.078125 \nL 44.28125 44.578125 \nQ 40.484375 46.53125 36.375 47.5 \nQ 32.28125 48.484375 27.875 48.484375 \nQ 21.1875 48.484375 17.84375 46.4375 \nQ 14.5 44.390625 14.5 40.28125 \nQ 14.5 37.15625 16.890625 35.375 \nQ 19.28125 33.59375 26.515625 31.984375 \nL 29.59375 31.296875 \nQ 39.15625 29.25 43.1875 25.515625 \nQ 47.21875 21.78125 47.21875 15.09375 \nQ 47.21875 7.46875 41.1875 3.015625 \nQ 35.15625 -1.421875 24.609375 -1.421875 \nQ 20.21875 -1.421875 15.453125 -0.5625 \nQ 10.6875 0.296875 5.421875 2 \nL 5.421875 11.28125 \nQ 10.40625 8.6875 15.234375 7.390625 \nQ 20.0625 6.109375 24.8125 6.109375 \nQ 31.15625 6.109375 34.5625 8.28125 \nQ 37.984375 10.453125 37.984375 14.40625 \nQ 37.984375 18.0625 35.515625 20.015625 \nQ 33.0625 21.96875 24.703125 23.78125 \nL 21.578125 24.515625 \nQ 13.234375 26.265625 9.515625 29.90625 \nQ 5.8125 33.546875 5.8125 39.890625 \nQ 5.8125 47.609375 11.28125 51.796875 \nQ 16.75 56 26.8125 56 \nQ 31.78125 56 36.171875 55.265625 \nQ 40.578125 54.546875 44.28125 53.078125 \nz\n\" id=\"DejaVuSans-115\"/>\n      </defs>\n      <use xlink:href=\"#DejaVuSans-72\"/>\n      <use x=\"75.195312\" xlink:href=\"#DejaVuSans-111\"/>\n      <use x=\"136.376953\" xlink:href=\"#DejaVuSans-117\"/>\n      <use x=\"199.755859\" xlink:href=\"#DejaVuSans-114\"/>\n      <use x=\"240.869141\" xlink:href=\"#DejaVuSans-115\"/>\n     </g>\n    </g>\n   </g>\n   <g id=\"line2d_10\">\n    <path clip-path=\"url(#p53f769a209)\" d=\"M 86.3425 159.492344 \nL 186.7825 159.492344 \nL 287.2225 159.492344 \n\" style=\"fill:none;stroke:#0000ff;stroke-linecap:square;stroke-width:1.5;\"/>\n   </g>\n   <g id=\"patch_21\">\n    <path d=\"M 36.1225 239.758125 \nL 36.1225 22.318125 \n\" style=\"fill:none;stroke:#000000;stroke-linecap:square;stroke-linejoin:miter;stroke-width:0.8;\"/>\n   </g>\n   <g id=\"patch_22\">\n    <path d=\"M 337.4425 239.758125 \nL 337.4425 22.318125 \n\" style=\"fill:none;stroke:#000000;stroke-linecap:square;stroke-linejoin:miter;stroke-width:0.8;\"/>\n   </g>\n   <g id=\"patch_23\">\n    <path d=\"M 36.1225 239.758125 \nL 337.4425 239.758125 \n\" style=\"fill:none;stroke:#000000;stroke-linecap:square;stroke-linejoin:miter;stroke-width:0.8;\"/>\n   </g>\n   <g id=\"patch_24\">\n    <path d=\"M 36.1225 22.318125 \nL 337.4425 22.318125 \n\" style=\"fill:none;stroke:#000000;stroke-linecap:square;stroke-linejoin:miter;stroke-width:0.8;\"/>\n   </g>\n   <g id=\"text_12\">\n    <!-- Witherspoon -->\n    <g transform=\"translate(148.925312 16.318125)scale(0.12 -0.12)\">\n     <defs>\n      <path d=\"M 3.328125 72.90625 \nL 13.28125 72.90625 \nL 28.609375 11.28125 \nL 43.890625 72.90625 \nL 54.984375 72.90625 \nL 70.3125 11.28125 \nL 85.59375 72.90625 \nL 95.609375 72.90625 \nL 77.296875 0 \nL 64.890625 0 \nL 49.515625 63.28125 \nL 33.984375 0 \nL 21.578125 0 \nz\n\" id=\"DejaVuSans-87\"/>\n      <path d=\"M 9.421875 54.6875 \nL 18.40625 54.6875 \nL 18.40625 0 \nL 9.421875 0 \nz\nM 9.421875 75.984375 \nL 18.40625 75.984375 \nL 18.40625 64.59375 \nL 9.421875 64.59375 \nz\n\" id=\"DejaVuSans-105\"/>\n      <path d=\"M 18.3125 70.21875 \nL 18.3125 54.6875 \nL 36.8125 54.6875 \nL 36.8125 47.703125 \nL 18.3125 47.703125 \nL 18.3125 18.015625 \nQ 18.3125 11.328125 20.140625 9.421875 \nQ 21.96875 7.515625 27.59375 7.515625 \nL 36.8125 7.515625 \nL 36.8125 0 \nL 27.59375 0 \nQ 17.1875 0 13.234375 3.875 \nQ 9.28125 7.765625 9.28125 18.015625 \nL 9.28125 47.703125 \nL 2.6875 47.703125 \nL 2.6875 54.6875 \nL 9.28125 54.6875 \nL 9.28125 70.21875 \nz\n\" id=\"DejaVuSans-116\"/>\n      <path d=\"M 54.890625 33.015625 \nL 54.890625 0 \nL 45.90625 0 \nL 45.90625 32.71875 \nQ 45.90625 40.484375 42.875 44.328125 \nQ 39.84375 48.1875 33.796875 48.1875 \nQ 26.515625 48.1875 22.3125 43.546875 \nQ 18.109375 38.921875 18.109375 30.90625 \nL 18.109375 0 \nL 9.078125 0 \nL 9.078125 75.984375 \nL 18.109375 75.984375 \nL 18.109375 46.1875 \nQ 21.34375 51.125 25.703125 53.5625 \nQ 30.078125 56 35.796875 56 \nQ 45.21875 56 50.046875 50.171875 \nQ 54.890625 44.34375 54.890625 33.015625 \nz\n\" id=\"DejaVuSans-104\"/>\n      <path d=\"M 56.203125 29.59375 \nL 56.203125 25.203125 \nL 14.890625 25.203125 \nQ 15.484375 15.921875 20.484375 11.0625 \nQ 25.484375 6.203125 34.421875 6.203125 \nQ 39.59375 6.203125 44.453125 7.46875 \nQ 49.3125 8.734375 54.109375 11.28125 \nL 54.109375 2.78125 \nQ 49.265625 0.734375 44.1875 -0.34375 \nQ 39.109375 -1.421875 33.890625 -1.421875 \nQ 20.796875 -1.421875 13.15625 6.1875 \nQ 5.515625 13.8125 5.515625 26.8125 \nQ 5.515625 40.234375 12.765625 48.109375 \nQ 20.015625 56 32.328125 56 \nQ 43.359375 56 49.78125 48.890625 \nQ 56.203125 41.796875 56.203125 29.59375 \nz\nM 47.21875 32.234375 \nQ 47.125 39.59375 43.09375 43.984375 \nQ 39.0625 48.390625 32.421875 48.390625 \nQ 24.90625 48.390625 20.390625 44.140625 \nQ 15.875 39.890625 15.1875 32.171875 \nz\n\" id=\"DejaVuSans-101\"/>\n      <path d=\"M 18.109375 8.203125 \nL 18.109375 -20.796875 \nL 9.078125 -20.796875 \nL 9.078125 54.6875 \nL 18.109375 54.6875 \nL 18.109375 46.390625 \nQ 20.953125 51.265625 25.265625 53.625 \nQ 29.59375 56 35.59375 56 \nQ 45.5625 56 51.78125 48.09375 \nQ 58.015625 40.1875 58.015625 27.296875 \nQ 58.015625 14.40625 51.78125 6.484375 \nQ 45.5625 -1.421875 35.59375 -1.421875 \nQ 29.59375 -1.421875 25.265625 0.953125 \nQ 20.953125 3.328125 18.109375 8.203125 \nz\nM 48.6875 27.296875 \nQ 48.6875 37.203125 44.609375 42.84375 \nQ 40.53125 48.484375 33.40625 48.484375 \nQ 26.265625 48.484375 22.1875 42.84375 \nQ 18.109375 37.203125 18.109375 27.296875 \nQ 18.109375 17.390625 22.1875 11.75 \nQ 26.265625 6.109375 33.40625 6.109375 \nQ 40.53125 6.109375 44.609375 11.75 \nQ 48.6875 17.390625 48.6875 27.296875 \nz\n\" id=\"DejaVuSans-112\"/>\n      <path d=\"M 54.890625 33.015625 \nL 54.890625 0 \nL 45.90625 0 \nL 45.90625 32.71875 \nQ 45.90625 40.484375 42.875 44.328125 \nQ 39.84375 48.1875 33.796875 48.1875 \nQ 26.515625 48.1875 22.3125 43.546875 \nQ 18.109375 38.921875 18.109375 30.90625 \nL 18.109375 0 \nL 9.078125 0 \nL 9.078125 54.6875 \nL 18.109375 54.6875 \nL 18.109375 46.1875 \nQ 21.34375 51.125 25.703125 53.5625 \nQ 30.078125 56 35.796875 56 \nQ 45.21875 56 50.046875 50.171875 \nQ 54.890625 44.34375 54.890625 33.015625 \nz\n\" id=\"DejaVuSans-110\"/>\n     </defs>\n     <use xlink:href=\"#DejaVuSans-87\"/>\n     <use x=\"96.626953\" xlink:href=\"#DejaVuSans-105\"/>\n     <use x=\"124.410156\" xlink:href=\"#DejaVuSans-116\"/>\n     <use x=\"163.619141\" xlink:href=\"#DejaVuSans-104\"/>\n     <use x=\"226.998047\" xlink:href=\"#DejaVuSans-101\"/>\n     <use x=\"288.521484\" xlink:href=\"#DejaVuSans-114\"/>\n     <use x=\"329.634766\" xlink:href=\"#DejaVuSans-115\"/>\n     <use x=\"381.734375\" xlink:href=\"#DejaVuSans-112\"/>\n     <use x=\"445.210938\" xlink:href=\"#DejaVuSans-111\"/>\n     <use x=\"506.392578\" xlink:href=\"#DejaVuSans-111\"/>\n     <use x=\"567.574219\" xlink:href=\"#DejaVuSans-110\"/>\n    </g>\n   </g>\n   <g id=\"legend_1\">\n    <g id=\"patch_25\">\n     <path d=\"M 368.445875 166.627625 \nL 430.967125 166.627625 \nQ 432.567125 166.627625 432.567125 165.027625 \nL 432.567125 95.150125 \nQ 432.567125 93.550125 430.967125 93.550125 \nL 368.445875 93.550125 \nQ 366.845875 93.550125 366.845875 95.150125 \nL 366.845875 165.027625 \nQ 366.845875 166.627625 368.445875 166.627625 \nz\n\" style=\"fill:#4c4c4c;opacity:0.5;stroke:#4c4c4c;stroke-linejoin:miter;\"/>\n    </g>\n    <g id=\"patch_26\">\n     <path d=\"M 366.445875 164.627625 \nL 428.967125 164.627625 \nQ 430.567125 164.627625 430.567125 163.027625 \nL 430.567125 93.150125 \nQ 430.567125 91.550125 428.967125 91.550125 \nL 366.445875 91.550125 \nQ 364.845875 91.550125 364.845875 93.150125 \nL 364.845875 163.027625 \nQ 364.845875 164.627625 366.445875 164.627625 \nz\n\" style=\"fill:#ffffff;stroke:#cccccc;stroke-linejoin:miter;\"/>\n    </g>\n    <g id=\"patch_27\">\n     <path d=\"M 368.045875 100.828875 \nL 384.045875 100.828875 \nL 384.045875 95.228875 \nL 368.045875 95.228875 \nz\n\" style=\"fill:#1f77b4;\"/>\n    </g>\n    <g id=\"text_13\">\n     <!-- Test -->\n     <g transform=\"translate(390.445875 100.828875)scale(0.08 -0.08)\">\n      <defs>\n       <path d=\"M -0.296875 72.90625 \nL 61.375 72.90625 \nL 61.375 64.59375 \nL 35.5 64.59375 \nL 35.5 0 \nL 25.59375 0 \nL 25.59375 64.59375 \nL -0.296875 64.59375 \nz\n\" id=\"DejaVuSans-84\"/>\n      </defs>\n      <use xlink:href=\"#DejaVuSans-84\"/>\n      <use x=\"44.083984\" xlink:href=\"#DejaVuSans-101\"/>\n      <use x=\"105.607422\" xlink:href=\"#DejaVuSans-115\"/>\n      <use x=\"157.707031\" xlink:href=\"#DejaVuSans-116\"/>\n     </g>\n    </g>\n    <g id=\"patch_28\">\n     <path d=\"M 368.045875 112.571375 \nL 384.045875 112.571375 \nL 384.045875 106.971375 \nL 368.045875 106.971375 \nz\n\" style=\"fill:#ff7f0e;\"/>\n    </g>\n    <g id=\"text_14\">\n     <!-- Rework -->\n     <g transform=\"translate(390.445875 112.571375)scale(0.08 -0.08)\">\n      <defs>\n       <path d=\"M 4.203125 54.6875 \nL 13.1875 54.6875 \nL 24.421875 12.015625 \nL 35.59375 54.6875 \nL 46.1875 54.6875 \nL 57.421875 12.015625 \nL 68.609375 54.6875 \nL 77.59375 54.6875 \nL 63.28125 0 \nL 52.6875 0 \nL 40.921875 44.828125 \nL 29.109375 0 \nL 18.5 0 \nz\n\" id=\"DejaVuSans-119\"/>\n       <path d=\"M 9.078125 75.984375 \nL 18.109375 75.984375 \nL 18.109375 31.109375 \nL 44.921875 54.6875 \nL 56.390625 54.6875 \nL 27.390625 29.109375 \nL 57.625 0 \nL 45.90625 0 \nL 18.109375 26.703125 \nL 18.109375 0 \nL 9.078125 0 \nz\n\" id=\"DejaVuSans-107\"/>\n      </defs>\n      <use xlink:href=\"#DejaVuSans-82\"/>\n      <use x=\"64.982422\" xlink:href=\"#DejaVuSans-101\"/>\n      <use x=\"126.505859\" xlink:href=\"#DejaVuSans-119\"/>\n      <use x=\"208.292969\" xlink:href=\"#DejaVuSans-111\"/>\n      <use x=\"269.474609\" xlink:href=\"#DejaVuSans-114\"/>\n      <use x=\"310.587891\" xlink:href=\"#DejaVuSans-107\"/>\n     </g>\n    </g>\n    <g id=\"patch_29\">\n     <path d=\"M 368.045875 124.313875 \nL 384.045875 124.313875 \nL 384.045875 118.713875 \nL 368.045875 118.713875 \nz\n\" style=\"fill:#2ca02c;\"/>\n    </g>\n    <g id=\"text_15\">\n     <!-- Preload -->\n     <g transform=\"translate(390.445875 124.313875)scale(0.08 -0.08)\">\n      <defs>\n       <path d=\"M 19.671875 64.796875 \nL 19.671875 37.40625 \nL 32.078125 37.40625 \nQ 38.96875 37.40625 42.71875 40.96875 \nQ 46.484375 44.53125 46.484375 51.125 \nQ 46.484375 57.671875 42.71875 61.234375 \nQ 38.96875 64.796875 32.078125 64.796875 \nz\nM 9.8125 72.90625 \nL 32.078125 72.90625 \nQ 44.34375 72.90625 50.609375 67.359375 \nQ 56.890625 61.8125 56.890625 51.125 \nQ 56.890625 40.328125 50.609375 34.8125 \nQ 44.34375 29.296875 32.078125 29.296875 \nL 19.671875 29.296875 \nL 19.671875 0 \nL 9.8125 0 \nz\n\" id=\"DejaVuSans-80\"/>\n       <path d=\"M 9.421875 75.984375 \nL 18.40625 75.984375 \nL 18.40625 0 \nL 9.421875 0 \nz\n\" id=\"DejaVuSans-108\"/>\n       <path d=\"M 34.28125 27.484375 \nQ 23.390625 27.484375 19.1875 25 \nQ 14.984375 22.515625 14.984375 16.5 \nQ 14.984375 11.71875 18.140625 8.90625 \nQ 21.296875 6.109375 26.703125 6.109375 \nQ 34.1875 6.109375 38.703125 11.40625 \nQ 43.21875 16.703125 43.21875 25.484375 \nL 43.21875 27.484375 \nz\nM 52.203125 31.203125 \nL 52.203125 0 \nL 43.21875 0 \nL 43.21875 8.296875 \nQ 40.140625 3.328125 35.546875 0.953125 \nQ 30.953125 -1.421875 24.3125 -1.421875 \nQ 15.921875 -1.421875 10.953125 3.296875 \nQ 6 8.015625 6 15.921875 \nQ 6 25.140625 12.171875 29.828125 \nQ 18.359375 34.515625 30.609375 34.515625 \nL 43.21875 34.515625 \nL 43.21875 35.40625 \nQ 43.21875 41.609375 39.140625 45 \nQ 35.0625 48.390625 27.6875 48.390625 \nQ 23 48.390625 18.546875 47.265625 \nQ 14.109375 46.140625 10.015625 43.890625 \nL 10.015625 52.203125 \nQ 14.9375 54.109375 19.578125 55.046875 \nQ 24.21875 56 28.609375 56 \nQ 40.484375 56 46.34375 49.84375 \nQ 52.203125 43.703125 52.203125 31.203125 \nz\n\" id=\"DejaVuSans-97\"/>\n       <path d=\"M 45.40625 46.390625 \nL 45.40625 75.984375 \nL 54.390625 75.984375 \nL 54.390625 0 \nL 45.40625 0 \nL 45.40625 8.203125 \nQ 42.578125 3.328125 38.25 0.953125 \nQ 33.9375 -1.421875 27.875 -1.421875 \nQ 17.96875 -1.421875 11.734375 6.484375 \nQ 5.515625 14.40625 5.515625 27.296875 \nQ 5.515625 40.1875 11.734375 48.09375 \nQ 17.96875 56 27.875 56 \nQ 33.9375 56 38.25 53.625 \nQ 42.578125 51.265625 45.40625 46.390625 \nz\nM 14.796875 27.296875 \nQ 14.796875 17.390625 18.875 11.75 \nQ 22.953125 6.109375 30.078125 6.109375 \nQ 37.203125 6.109375 41.296875 11.75 \nQ 45.40625 17.390625 45.40625 27.296875 \nQ 45.40625 37.203125 41.296875 42.84375 \nQ 37.203125 48.484375 30.078125 48.484375 \nQ 22.953125 48.484375 18.875 42.84375 \nQ 14.796875 37.203125 14.796875 27.296875 \nz\n\" id=\"DejaVuSans-100\"/>\n      </defs>\n      <use xlink:href=\"#DejaVuSans-80\"/>\n      <use x=\"58.552734\" xlink:href=\"#DejaVuSans-114\"/>\n      <use x=\"97.416016\" xlink:href=\"#DejaVuSans-101\"/>\n      <use x=\"158.939453\" xlink:href=\"#DejaVuSans-108\"/>\n      <use x=\"186.722656\" xlink:href=\"#DejaVuSans-111\"/>\n      <use x=\"247.904297\" xlink:href=\"#DejaVuSans-97\"/>\n      <use x=\"309.183594\" xlink:href=\"#DejaVuSans-100\"/>\n     </g>\n    </g>\n    <g id=\"patch_30\">\n     <path d=\"M 368.045875 136.056375 \nL 384.045875 136.056375 \nL 384.045875 130.456375 \nL 368.045875 130.456375 \nz\n\" style=\"fill:#d62728;\"/>\n    </g>\n    <g id=\"text_16\">\n     <!-- Attention -->\n     <g transform=\"translate(390.445875 136.056375)scale(0.08 -0.08)\">\n      <use xlink:href=\"#DejaVuSans-65\"/>\n      <use x=\"66.658203\" xlink:href=\"#DejaVuSans-116\"/>\n      <use x=\"105.867188\" xlink:href=\"#DejaVuSans-116\"/>\n      <use x=\"145.076172\" xlink:href=\"#DejaVuSans-101\"/>\n      <use x=\"206.599609\" xlink:href=\"#DejaVuSans-110\"/>\n      <use x=\"269.978516\" xlink:href=\"#DejaVuSans-116\"/>\n      <use x=\"309.1875\" xlink:href=\"#DejaVuSans-105\"/>\n      <use x=\"336.970703\" xlink:href=\"#DejaVuSans-111\"/>\n      <use x=\"398.152344\" xlink:href=\"#DejaVuSans-110\"/>\n     </g>\n    </g>\n    <g id=\"patch_31\">\n     <path d=\"M 368.045875 147.798875 \nL 384.045875 147.798875 \nL 384.045875 142.198875 \nL 368.045875 142.198875 \nz\n\" style=\"fill:#9467bd;\"/>\n    </g>\n    <g id=\"text_17\">\n     <!-- EXT_OPS -->\n     <g transform=\"translate(390.445875 147.798875)scale(0.08 -0.08)\">\n      <defs>\n       <path d=\"M 6.296875 72.90625 \nL 16.890625 72.90625 \nL 35.015625 45.796875 \nL 53.21875 72.90625 \nL 63.8125 72.90625 \nL 40.375 37.890625 \nL 65.375 0 \nL 54.78125 0 \nL 34.28125 31 \nL 13.625 0 \nL 2.984375 0 \nL 29 38.921875 \nz\n\" id=\"DejaVuSans-88\"/>\n      </defs>\n      <use xlink:href=\"#DejaVuSans-69\"/>\n      <use x=\"63.183594\" xlink:href=\"#DejaVuSans-88\"/>\n      <use x=\"129.939453\" xlink:href=\"#DejaVuSans-84\"/>\n      <use x=\"191.023438\" xlink:href=\"#DejaVuSans-95\"/>\n      <use x=\"241.023438\" xlink:href=\"#DejaVuSans-79\"/>\n      <use x=\"319.734375\" xlink:href=\"#DejaVuSans-80\"/>\n      <use x=\"380.037109\" xlink:href=\"#DejaVuSans-83\"/>\n     </g>\n    </g>\n    <g id=\"patch_32\">\n     <path d=\"M 368.045875 159.763875 \nL 384.045875 159.763875 \nL 384.045875 154.163875 \nL 368.045875 154.163875 \nz\n\" style=\"fill:#8c564b;\"/>\n    </g>\n    <g id=\"text_18\">\n     <!-- Hold -->\n     <g transform=\"translate(390.445875 159.763875)scale(0.08 -0.08)\">\n      <use xlink:href=\"#DejaVuSans-72\"/>\n      <use x=\"75.195312\" xlink:href=\"#DejaVuSans-111\"/>\n      <use x=\"136.376953\" xlink:href=\"#DejaVuSans-108\"/>\n      <use x=\"164.160156\" xlink:href=\"#DejaVuSans-100\"/>\n     </g>\n    </g>\n   </g>\n  </g>\n </g>\n <defs>\n  <clipPath id=\"p53f769a209\">\n   <rect height=\"217.44\" width=\"301.32\" x=\"36.1225\" y=\"22.318125\"/>\n  </clipPath>\n </defs>\n</svg>\n",
      "image/png": "[encoded data removed]"
     },
     "metadata": {
      "needs_background": "light"
     }
    },
    {
     "output_type": "display_data",
     "data": {
      "text/plain": "<Figure size 2880x2880 with 0 Axes>"
     },
     "metadata": {}
    }
   ],
   "source": [
    "ax = graph_df.plot(kind = 'bar',stacked=True)\n",
    "ax.grid(False)\n",
    "plt.title('Witherspoon')\n",
    "plt.ylabel('Hours', color='k')\n",
    "plt.plot(target, color='b')\n",
    "chartBox = ax.get_position()\n",
    "ax.set_position([chartBox.x0, chartBox.y0, chartBox.width*0.9, chartBox.height])\n",
    "ax.legend(loc='upper center', bbox_to_anchor=(1.2, 0.7), shadow=True, ncol=1)\n",
    "plt.figure(figsize=(40,40))\n",
    "plt.savefig('plot.png')\n",
    "plt.show()"
   ]
  },
  {
   "cell_type": "code",
   "execution_count": 22,
   "metadata": {},
   "outputs": [
    {
     "output_type": "error",
     "ename": "TypeError",
     "evalue": "only size-1 arrays can be converted to Python scalars",
     "traceback": [
      "\u001b[0;31m---------------------------------------------------------------------------\u001b[0m",
      "\u001b[0;31mTypeError\u001b[0m                                 Traceback (most recent call last)",
      "\u001b[0;32m<ipython-input-22-f7eb1286ab4c>\u001b[0m in \u001b[0;36m<module>\u001b[0;34m\u001b[0m\n\u001b[1;32m      2\u001b[0m \u001b[0max\u001b[0m \u001b[0;34m=\u001b[0m \u001b[0mgraph_df\u001b[0m\u001b[0;34m.\u001b[0m\u001b[0mplot\u001b[0m\u001b[0;34m(\u001b[0m\u001b[0mkind\u001b[0m \u001b[0;34m=\u001b[0m \u001b[0;34m'bar'\u001b[0m\u001b[0;34m,\u001b[0m\u001b[0mstacked\u001b[0m\u001b[0;34m=\u001b[0m\u001b[0;32mTrue\u001b[0m\u001b[0;34m)\u001b[0m\u001b[0;34m\u001b[0m\u001b[0;34m\u001b[0m\u001b[0m\n\u001b[1;32m      3\u001b[0m \u001b[0max\u001b[0m\u001b[0;34m.\u001b[0m\u001b[0mgrid\u001b[0m\u001b[0;34m(\u001b[0m\u001b[0;32mFalse\u001b[0m\u001b[0;34m)\u001b[0m\u001b[0;34m\u001b[0m\u001b[0;34m\u001b[0m\u001b[0m\n\u001b[0;32m----> 4\u001b[0;31m \u001b[0max\u001b[0m\u001b[0;34m.\u001b[0m\u001b[0mbar\u001b[0m\u001b[0;34m(\u001b[0m\u001b[0mgraph_df\u001b[0m\u001b[0;34m.\u001b[0m\u001b[0mcolumns\u001b[0m\u001b[0;34m,\u001b[0m \u001b[0mgraph_df\u001b[0m\u001b[0;34m)\u001b[0m\u001b[0;34m\u001b[0m\u001b[0;34m\u001b[0m\u001b[0m\n\u001b[0m\u001b[1;32m      5\u001b[0m \u001b[0mplt\u001b[0m\u001b[0;34m.\u001b[0m\u001b[0mshow\u001b[0m\u001b[0;34m(\u001b[0m\u001b[0;34m)\u001b[0m\u001b[0;34m\u001b[0m\u001b[0;34m\u001b[0m\u001b[0m\n",
      "\u001b[0;32m~/.local/lib/python3.6/site-packages/matplotlib/__init__.py\u001b[0m in \u001b[0;36minner\u001b[0;34m(ax, data, *args, **kwargs)\u001b[0m\n\u001b[1;32m   1445\u001b[0m     \u001b[0;32mdef\u001b[0m \u001b[0minner\u001b[0m\u001b[0;34m(\u001b[0m\u001b[0max\u001b[0m\u001b[0;34m,\u001b[0m \u001b[0;34m*\u001b[0m\u001b[0margs\u001b[0m\u001b[0;34m,\u001b[0m \u001b[0mdata\u001b[0m\u001b[0;34m=\u001b[0m\u001b[0;32mNone\u001b[0m\u001b[0;34m,\u001b[0m \u001b[0;34m**\u001b[0m\u001b[0mkwargs\u001b[0m\u001b[0;34m)\u001b[0m\u001b[0;34m:\u001b[0m\u001b[0;34m\u001b[0m\u001b[0;34m\u001b[0m\u001b[0m\n\u001b[1;32m   1446\u001b[0m         \u001b[0;32mif\u001b[0m \u001b[0mdata\u001b[0m \u001b[0;32mis\u001b[0m \u001b[0;32mNone\u001b[0m\u001b[0;34m:\u001b[0m\u001b[0;34m\u001b[0m\u001b[0;34m\u001b[0m\u001b[0m\n\u001b[0;32m-> 1447\u001b[0;31m             \u001b[0;32mreturn\u001b[0m \u001b[0mfunc\u001b[0m\u001b[0;34m(\u001b[0m\u001b[0max\u001b[0m\u001b[0;34m,\u001b[0m \u001b[0;34m*\u001b[0m\u001b[0mmap\u001b[0m\u001b[0;34m(\u001b[0m\u001b[0msanitize_sequence\u001b[0m\u001b[0;34m,\u001b[0m \u001b[0margs\u001b[0m\u001b[0;34m)\u001b[0m\u001b[0;34m,\u001b[0m \u001b[0;34m**\u001b[0m\u001b[0mkwargs\u001b[0m\u001b[0;34m)\u001b[0m\u001b[0;34m\u001b[0m\u001b[0;34m\u001b[0m\u001b[0m\n\u001b[0m\u001b[1;32m   1448\u001b[0m \u001b[0;34m\u001b[0m\u001b[0m\n\u001b[1;32m   1449\u001b[0m         \u001b[0mbound\u001b[0m \u001b[0;34m=\u001b[0m \u001b[0mnew_sig\u001b[0m\u001b[0;34m.\u001b[0m\u001b[0mbind\u001b[0m\u001b[0;34m(\u001b[0m\u001b[0max\u001b[0m\u001b[0;34m,\u001b[0m \u001b[0;34m*\u001b[0m\u001b[0margs\u001b[0m\u001b[0;34m,\u001b[0m \u001b[0;34m**\u001b[0m\u001b[0mkwargs\u001b[0m\u001b[0;34m)\u001b[0m\u001b[0;34m\u001b[0m\u001b[0;34m\u001b[0m\u001b[0m\n",
      "\u001b[0;32m~/.local/lib/python3.6/site-packages/matplotlib/axes/_axes.py\u001b[0m in \u001b[0;36mbar\u001b[0;34m(self, x, height, width, bottom, align, **kwargs)\u001b[0m\n\u001b[1;32m   2484\u001b[0m                 \u001b[0medgecolor\u001b[0m\u001b[0;34m=\u001b[0m\u001b[0me\u001b[0m\u001b[0;34m,\u001b[0m\u001b[0;34m\u001b[0m\u001b[0;34m\u001b[0m\u001b[0m\n\u001b[1;32m   2485\u001b[0m                 \u001b[0mlinewidth\u001b[0m\u001b[0;34m=\u001b[0m\u001b[0mlw\u001b[0m\u001b[0;34m,\u001b[0m\u001b[0;34m\u001b[0m\u001b[0;34m\u001b[0m\u001b[0m\n\u001b[0;32m-> 2486\u001b[0;31m                 \u001b[0mlabel\u001b[0m\u001b[0;34m=\u001b[0m\u001b[0;34m'_nolegend_'\u001b[0m\u001b[0;34m,\u001b[0m\u001b[0;34m\u001b[0m\u001b[0;34m\u001b[0m\u001b[0m\n\u001b[0m\u001b[1;32m   2487\u001b[0m                 )\n\u001b[1;32m   2488\u001b[0m             \u001b[0mr\u001b[0m\u001b[0;34m.\u001b[0m\u001b[0mupdate\u001b[0m\u001b[0;34m(\u001b[0m\u001b[0mkwargs\u001b[0m\u001b[0;34m)\u001b[0m\u001b[0;34m\u001b[0m\u001b[0;34m\u001b[0m\u001b[0m\n",
      "\u001b[0;32m~/.local/lib/python3.6/site-packages/matplotlib/patches.py\u001b[0m in \u001b[0;36m__init__\u001b[0;34m(self, xy, width, height, angle, **kwargs)\u001b[0m\n\u001b[1;32m    740\u001b[0m         \"\"\"\n\u001b[1;32m    741\u001b[0m \u001b[0;34m\u001b[0m\u001b[0m\n\u001b[0;32m--> 742\u001b[0;31m         \u001b[0mPatch\u001b[0m\u001b[0;34m.\u001b[0m\u001b[0m__init__\u001b[0m\u001b[0;34m(\u001b[0m\u001b[0mself\u001b[0m\u001b[0;34m,\u001b[0m \u001b[0;34m**\u001b[0m\u001b[0mkwargs\u001b[0m\u001b[0;34m)\u001b[0m\u001b[0;34m\u001b[0m\u001b[0;34m\u001b[0m\u001b[0m\n\u001b[0m\u001b[1;32m    743\u001b[0m \u001b[0;34m\u001b[0m\u001b[0m\n\u001b[1;32m    744\u001b[0m         \u001b[0mself\u001b[0m\u001b[0;34m.\u001b[0m\u001b[0m_x0\u001b[0m \u001b[0;34m=\u001b[0m \u001b[0mxy\u001b[0m\u001b[0;34m[\u001b[0m\u001b[0;36m0\u001b[0m\u001b[0;34m]\u001b[0m\u001b[0;34m\u001b[0m\u001b[0;34m\u001b[0m\u001b[0m\n",
      "\u001b[0;32m~/.local/lib/python3.6/site-packages/matplotlib/patches.py\u001b[0m in \u001b[0;36m__init__\u001b[0;34m(self, edgecolor, facecolor, color, linewidth, linestyle, antialiased, hatch, fill, capstyle, joinstyle, **kwargs)\u001b[0m\n\u001b[1;32m     86\u001b[0m         \u001b[0mself\u001b[0m\u001b[0;34m.\u001b[0m\u001b[0mset_fill\u001b[0m\u001b[0;34m(\u001b[0m\u001b[0mfill\u001b[0m\u001b[0;34m)\u001b[0m\u001b[0;34m\u001b[0m\u001b[0;34m\u001b[0m\u001b[0m\n\u001b[1;32m     87\u001b[0m         \u001b[0mself\u001b[0m\u001b[0;34m.\u001b[0m\u001b[0mset_linestyle\u001b[0m\u001b[0;34m(\u001b[0m\u001b[0mlinestyle\u001b[0m\u001b[0;34m)\u001b[0m\u001b[0;34m\u001b[0m\u001b[0;34m\u001b[0m\u001b[0m\n\u001b[0;32m---> 88\u001b[0;31m         \u001b[0mself\u001b[0m\u001b[0;34m.\u001b[0m\u001b[0mset_linewidth\u001b[0m\u001b[0;34m(\u001b[0m\u001b[0mlinewidth\u001b[0m\u001b[0;34m)\u001b[0m\u001b[0;34m\u001b[0m\u001b[0;34m\u001b[0m\u001b[0m\n\u001b[0m\u001b[1;32m     89\u001b[0m         \u001b[0mself\u001b[0m\u001b[0;34m.\u001b[0m\u001b[0mset_antialiased\u001b[0m\u001b[0;34m(\u001b[0m\u001b[0mantialiased\u001b[0m\u001b[0;34m)\u001b[0m\u001b[0;34m\u001b[0m\u001b[0;34m\u001b[0m\u001b[0m\n\u001b[1;32m     90\u001b[0m         \u001b[0mself\u001b[0m\u001b[0;34m.\u001b[0m\u001b[0mset_hatch\u001b[0m\u001b[0;34m(\u001b[0m\u001b[0mhatch\u001b[0m\u001b[0;34m)\u001b[0m\u001b[0;34m\u001b[0m\u001b[0;34m\u001b[0m\u001b[0m\n",
      "\u001b[0;32m~/.local/lib/python3.6/site-packages/matplotlib/patches.py\u001b[0m in \u001b[0;36mset_linewidth\u001b[0;34m(self, w)\u001b[0m\n\u001b[1;32m    391\u001b[0m                 \u001b[0mw\u001b[0m \u001b[0;34m=\u001b[0m \u001b[0mmpl\u001b[0m\u001b[0;34m.\u001b[0m\u001b[0mrcParams\u001b[0m\u001b[0;34m[\u001b[0m\u001b[0;34m'axes.linewidth'\u001b[0m\u001b[0;34m]\u001b[0m\u001b[0;34m\u001b[0m\u001b[0;34m\u001b[0m\u001b[0m\n\u001b[1;32m    392\u001b[0m \u001b[0;34m\u001b[0m\u001b[0m\n\u001b[0;32m--> 393\u001b[0;31m         \u001b[0mself\u001b[0m\u001b[0;34m.\u001b[0m\u001b[0m_linewidth\u001b[0m \u001b[0;34m=\u001b[0m \u001b[0mfloat\u001b[0m\u001b[0;34m(\u001b[0m\u001b[0mw\u001b[0m\u001b[0;34m)\u001b[0m\u001b[0;34m\u001b[0m\u001b[0;34m\u001b[0m\u001b[0m\n\u001b[0m\u001b[1;32m    394\u001b[0m         \u001b[0;31m# scale the dash pattern by the linewidth\u001b[0m\u001b[0;34m\u001b[0m\u001b[0;34m\u001b[0m\u001b[0;34m\u001b[0m\u001b[0m\n\u001b[1;32m    395\u001b[0m         \u001b[0moffset\u001b[0m\u001b[0;34m,\u001b[0m \u001b[0mls\u001b[0m \u001b[0;34m=\u001b[0m \u001b[0mself\u001b[0m\u001b[0;34m.\u001b[0m\u001b[0m_us_dashes\u001b[0m\u001b[0;34m\u001b[0m\u001b[0;34m\u001b[0m\u001b[0m\n",
      "\u001b[0;31mTypeError\u001b[0m: only size-1 arrays can be converted to Python scalars"
     ]
    }
   ],
   "source": [
    "fig, ax = plt.subplots()\n",
    "ax = graph_df.plot(kind = 'bar',stacked=True)\n",
    "ax.grid(False)\n",
    "ax.bar(graph_df.columns, graph_df[])\n",
    "plt.show()"
   ]
  }
 ]
}